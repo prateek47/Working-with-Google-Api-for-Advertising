{
 "cells": [
  {
   "cell_type": "markdown",
   "metadata": {},
   "source": [
    "### Segregating unique identifiers like GPID and IDFA, storing them in chunks of 10Mb size and posting them "
   ]
  },
  {
   "cell_type": "markdown",
   "metadata": {},
   "source": [
    "#### -by Prateek Agrawal"
   ]
  },
  {
   "cell_type": "code",
   "execution_count": 13,
   "metadata": {
    "collapsed": true
   },
   "outputs": [],
   "source": [
    "# libraries imported useful for the analysis\n",
    "import pandas as pd\n",
    "import numpy as np\n",
    "import sys\n",
    "import os\n",
    "import requests"
   ]
  },
  {
   "cell_type": "markdown",
   "metadata": {},
   "source": [
    "#### Functions used in Part 1:--"
   ]
  },
  {
   "cell_type": "code",
   "execution_count": 2,
   "metadata": {
    "collapsed": false
   },
   "outputs": [],
   "source": [
    "# Building a function to find the type of identifier\n",
    "def test_GPID_IDFA(string):\n",
    "    condition1 = 'FALSE'\n",
    "    condition2 = 'FALSE'\n",
    "    value = \"others\"\n",
    "    for c in list(string):\n",
    "        if c in \"ABCDEFGHIJKLMNOPQRSTUVWXYZ\":\n",
    "            condition1 = 'TRUE'\n",
    "            break\n",
    "        if c in 'abcdefghijklmnopqrstuvwxyz':\n",
    "            condition2 = 'TRUE'\n",
    "            break\n",
    "    if (condition1 == 'TRUE' and condition2 == \"FALSE\"):\n",
    "        value = 'IDFA'\n",
    "    if (condition1 == 'FALSE' and condition2 == \"TRUE\"):\n",
    "        value = 'GPID'\n",
    "    return(value)"
   ]
  },
  {
   "cell_type": "markdown",
   "metadata": {},
   "source": [
    "#### Note: \n",
    "For 10Mb storage, there are number of factors that affect the size of a file, eg the number of columns, size and type of data stored in the column, whether computer used has a 64bit or 32 bit processor, taking all such factors into account, we calculate the size of the bits by trail and error method for the current data format."
   ]
  },
  {
   "cell_type": "code",
   "execution_count": 78,
   "metadata": {
    "collapsed": true
   },
   "outputs": [],
   "source": [
    "# function to find the index of the dataframe at which the subset should be done so that the files created will be \n",
    "# of size 10Mb on the disk\n",
    "\n",
    "def find_index(df):\n",
    "    max_size = 36097846                        # number of bits required\n",
    "    curr_size = 0\n",
    "    index = 0                                  # the index number\n",
    "    for i in range(0,len(df),100):\n",
    "        curr_size = sys.getsizeof(df.ix[0:i,])\n",
    "        if curr_size >= max_size:\n",
    "            index = i-100\n",
    "            break\n",
    "    return(index)"
   ]
  },
  {
   "cell_type": "code",
   "execution_count": 29,
   "metadata": {
    "collapsed": true
   },
   "outputs": [],
   "source": [
    "# function to store file containing GPID id in local storage\n",
    "def saving_GPID_10mb(index):\n",
    "    \n",
    "    # dividing in the data in chunks as per the size\n",
    "    chunks = [GPID_df.ix[x:x+index,] for x in range(0, len(GPID_df), index)]\n",
    "\n",
    "    # creating a new directory\n",
    "    os.makedirs(\"GPID\")\n",
    "    current_dir = os.getcwd() # storing the current directory\n",
    "    os.chdir(os.path.join(current_dir, \"GPID\")) # moving the directory \n",
    "\n",
    "    # storing the GPID files\n",
    "    for i, df in enumerate(chunks):\n",
    "        filename = \"GPID_\" + str(i) +'.csv'\n",
    "        df.to_csv(filename, index=False)\n",
    "    \n",
    "    os.chdir(current_dir) # returning to the original directory\n",
    "    return(\"files created\")\n",
    "    "
   ]
  },
  {
   "cell_type": "code",
   "execution_count": 30,
   "metadata": {
    "collapsed": true
   },
   "outputs": [],
   "source": [
    "# function to store file containing IDFA id in local storage\n",
    "def saving_IDFA_10mb(index):\n",
    "    \n",
    "    # dividing in the data in chunks as per the size\n",
    "    chunks = [IDFA_df.ix[x:x+index,] for x in range(0, len(IDFA_df), index)]\n",
    "\n",
    "    # creating a new directory\n",
    "    os.makedirs(\"IDFA\")\n",
    "    current_dir = os.getcwd() # storing the current directory\n",
    "    os.chdir(os.path.join(current_dir, \"IDFA\")) # moving the directory \n",
    "\n",
    "    # storing the GPID files\n",
    "    for i, df in enumerate(chunks):\n",
    "        filename = \"IDFA_\" + str(i) +'.csv'\n",
    "        df.to_csv(filename, index=False)\n",
    "\n",
    "    os.chdir(current_dir) # Returning to the original directory\n",
    "    return(\"files created\")"
   ]
  },
  {
   "cell_type": "code",
   "execution_count": null,
   "metadata": {
    "collapsed": true
   },
   "outputs": [],
   "source": []
  },
  {
   "cell_type": "markdown",
   "metadata": {},
   "source": [
    "### Part 1:"
   ]
  },
  {
   "cell_type": "code",
   "execution_count": 6,
   "metadata": {
    "collapsed": false
   },
   "outputs": [],
   "source": [
    "# reading the data file and renaming the column name\n",
    "inmobi_data = pd.read_csv(\"tpr_inactive_maids.txt\", header=None)\n",
    "inmobi_data.columns = ['Identifiers']"
   ]
  },
  {
   "cell_type": "code",
   "execution_count": 7,
   "metadata": {
    "collapsed": false
   },
   "outputs": [
    {
     "data": {
      "text/html": [
       "<div>\n",
       "<table border=\"1\" class=\"dataframe\">\n",
       "  <thead>\n",
       "    <tr style=\"text-align: right;\">\n",
       "      <th></th>\n",
       "      <th>Identifiers</th>\n",
       "    </tr>\n",
       "  </thead>\n",
       "  <tbody>\n",
       "    <tr>\n",
       "      <th>0</th>\n",
       "      <td>000236f4-cbf7-47d6-95cd-d175c2f5b9b6</td>\n",
       "    </tr>\n",
       "    <tr>\n",
       "      <th>1</th>\n",
       "      <td>00024E74-4BE2-471E-A8FB-7D5AEB5B1B74</td>\n",
       "    </tr>\n",
       "    <tr>\n",
       "      <th>2</th>\n",
       "      <td>00037512-0f03-4a61-aeff-811f5c97a823</td>\n",
       "    </tr>\n",
       "    <tr>\n",
       "      <th>3</th>\n",
       "      <td>0003A812-6237-439F-8F99-9C5EEB27CCEC</td>\n",
       "    </tr>\n",
       "    <tr>\n",
       "      <th>4</th>\n",
       "      <td>0003B41E-0882-4A21-A933-76859FED095D</td>\n",
       "    </tr>\n",
       "  </tbody>\n",
       "</table>\n",
       "</div>"
      ],
      "text/plain": [
       "                            Identifiers\n",
       "0  000236f4-cbf7-47d6-95cd-d175c2f5b9b6\n",
       "1  00024E74-4BE2-471E-A8FB-7D5AEB5B1B74\n",
       "2  00037512-0f03-4a61-aeff-811f5c97a823\n",
       "3  0003A812-6237-439F-8F99-9C5EEB27CCEC\n",
       "4  0003B41E-0882-4A21-A933-76859FED095D"
      ]
     },
     "execution_count": 7,
     "metadata": {},
     "output_type": "execute_result"
    }
   ],
   "source": [
    "# viewing the data\n",
    "inmobi_data.head()"
   ]
  },
  {
   "cell_type": "code",
   "execution_count": 8,
   "metadata": {
    "collapsed": false
   },
   "outputs": [
    {
     "data": {
      "text/plain": [
       "(22363980, 1)"
      ]
     },
     "execution_count": 8,
     "metadata": {},
     "output_type": "execute_result"
    }
   ],
   "source": [
    "# checking the dimensions of the data provided\n",
    "inmobi_data.shape"
   ]
  },
  {
   "cell_type": "code",
   "execution_count": 9,
   "metadata": {
    "collapsed": false
   },
   "outputs": [],
   "source": [
    "# finding the identifier\n",
    "inmobi_data['Type_of_Value'] = inmobi_data.Identifiers.map(lambda x: test_GPID_IDFA(x))"
   ]
  },
  {
   "cell_type": "code",
   "execution_count": 10,
   "metadata": {
    "collapsed": false
   },
   "outputs": [
    {
     "name": "stdout",
     "output_type": "stream",
     "text": [
      "Number of GPID Identifiers: 6327153\n",
      "Number of IDFA Identifiers: 16036818\n",
      "Number of 'other' Identifiers: 9\n",
      "Total number of Identifiers: 22363980\n"
     ]
    }
   ],
   "source": [
    "# checking the number of identifiers\n",
    "print(\"Number of GPID Identifiers:\" , inmobi_data.ix[inmobi_data.Type_of_Value == \"GPID\",].shape[0])\n",
    "print(\"Number of IDFA Identifiers:\" , inmobi_data.ix[inmobi_data.Type_of_Value == \"IDFA\",].shape[0])\n",
    "print(\"Number of 'other' Identifiers:\" , inmobi_data.ix[inmobi_data.Type_of_Value == \"others\",].shape[0])\n",
    "print(\"Total number of Identifiers:\", inmobi_data.shape[0])"
   ]
  },
  {
   "cell_type": "code",
   "execution_count": 11,
   "metadata": {
    "collapsed": false
   },
   "outputs": [],
   "source": [
    "# separating the identifier and creating separate list for each\n",
    "GPID_identifiers =  inmobi_data.Identifiers[inmobi_data.Type_of_Value == \"GPID\"]\n",
    "IDFA_identifiers =  inmobi_data.Identifiers[inmobi_data.Type_of_Value == \"IDFA\"]\n",
    "other_identifiers =  inmobi_data.Identifiers[inmobi_data.Type_of_Value == \"others\"]"
   ]
  },
  {
   "cell_type": "code",
   "execution_count": 12,
   "metadata": {
    "collapsed": false
   },
   "outputs": [],
   "source": [
    "# resetting the index of the dataframe\n",
    "GPID_identifiers = GPID_identifiers.reset_index(range(len(GPID_identifiers)), drop=True)\n",
    "IDFA_identifiers = IDFA_identifiers.reset_index(range(len(IDFA_identifiers)), drop=True)\n",
    "other_identifiers = other_identifiers.reset_index(range(len(other_identifiers)), drop=True)"
   ]
  },
  {
   "cell_type": "code",
   "execution_count": 109,
   "metadata": {
    "collapsed": false
   },
   "outputs": [],
   "source": [
    "# convert the list in dataframe with desired columns..\n",
    "\n",
    "# GPID\n",
    "GPID_df = pd.DataFrame(columns=['eventTime', 'propertyId','o1','um5', 'ida', 'idv', 'gpId'])\n",
    "GPID_df.gpId = GPID_identifiers\n",
    "GPID_df.propertyId = ['59188fbcceb9464989aec3f03d5f29f2'] * len(GPID_df)\n",
    "GPID_df.um5 = ['202cb962ac59075b964b07152d234b70'] * len(GPID_df)\n",
    "GPID_df.o1 = ['40bd001563085fc35165329ea1ff5c5ecbdbbeef'] * len(GPID_df)\n",
    "GPID_df = GPID_df.replace(np.nan,' ', regex=True)\n",
    "\n",
    "# IDFA\n",
    "IDFA_df = pd.DataFrame(columns=['eventTime', 'propertyId','o1','um5', 'ida', 'idv', 'gpId'])\n",
    "IDFA_df.gpId = IDFA_identifiers\n",
    "IDFA_df.propertyId = ['b8c093a2cd8f4bc4938796115ef40c09'] * len(IDFA_df)\n",
    "IDFA_df.um5 = ['202cb962ac59075b964b07152d234b70'] * len(IDFA_df)\n",
    "IDFA_df.o1 = ['40bd001563085fc35165329ea1ff5c5ecbdbbeef'] * len(IDFA_df)\n",
    "IDFA_df = IDFA_df.replace(np.nan,' ', regex=True)\n"
   ]
  },
  {
   "cell_type": "markdown",
   "metadata": {},
   "source": [
    "As both GPID and IDFA identifier are stored in the same format their the index at which they should be subsetted so the size of the stored file is 10Mb will be the same."
   ]
  },
  {
   "cell_type": "code",
   "execution_count": 110,
   "metadata": {
    "collapsed": false
   },
   "outputs": [
    {
     "name": "stdout",
     "output_type": "stream",
     "text": [
      "66500\n"
     ]
    }
   ],
   "source": [
    "# finding the index where the data needs to be subsetted for maintaining 10Mb\n",
    "index = find_index(GPID_df)\n",
    "print(index)"
   ]
  },
  {
   "cell_type": "code",
   "execution_count": 111,
   "metadata": {
    "collapsed": false
   },
   "outputs": [
    {
     "data": {
      "text/plain": [
       "'files created'"
      ]
     },
     "execution_count": 111,
     "metadata": {},
     "output_type": "execute_result"
    }
   ],
   "source": [
    "# Creating a folder and saving the file of size 10Mb\n",
    "saving_GPID_10mb(index)\n",
    "saving_IDFA_10mb(index)"
   ]
  },
  {
   "cell_type": "markdown",
   "metadata": {
    "collapsed": false
   },
   "source": [
    "### Part 2:"
   ]
  },
  {
   "cell_type": "code",
   "execution_count": 112,
   "metadata": {
    "collapsed": true
   },
   "outputs": [],
   "source": [
    "# list of files in the folder\n",
    "files_inIDFA = os.listdir(os.path.join(os.getcwd(), \"IDFA\"))\n",
    "files_inGPID = os.listdir(os.path.join(os.getcwd(), \"GPID\"))"
   ]
  },
  {
   "cell_type": "markdown",
   "metadata": {},
   "source": [
    "### Posting each file from GPID and IDFA, and checking the status after posting it."
   ]
  },
  {
   "cell_type": "code",
   "execution_count": 108,
   "metadata": {
    "collapsed": false
   },
   "outputs": [
    {
     "name": "stdout",
     "output_type": "stream",
     "text": [
      "GPID_0.csv\n",
      "{\"status\":\"OK\",\"message\":\"check the jobStatus via GET call of given jobUrl\",\"code\":200,\"jobUrl\":\"advertiser-content.inmobiapis.com/tpce/v1/upload/events/download/jobs/file?job_id=GPID_0.csv_j5ca88003-efab-4bee-957b-46a3295e6962\"}\n",
      "GPID_1.csv\n",
      "{\"status\":\"OK\",\"message\":\"check the jobStatus via GET call of given jobUrl\",\"code\":200,\"jobUrl\":\"advertiser-content.inmobiapis.com/tpce/v1/upload/events/download/jobs/file?job_id=GPID_1.csv_j57505f9f-5382-44bf-832e-01bc80176b5a\"}\n",
      "GPID_10.csv\n",
      "{\"status\":\"OK\",\"message\":\"check the jobStatus via GET call of given jobUrl\",\"code\":200,\"jobUrl\":\"advertiser-content.inmobiapis.com/tpce/v1/upload/events/download/jobs/file?job_id=GPID_10.csv_jc34c8d62-6a6b-4228-876a-b69fd0241aeb\"}\n",
      "GPID_11.csv\n",
      "{\"status\":\"OK\",\"message\":\"check the jobStatus via GET call of given jobUrl\",\"code\":200,\"jobUrl\":\"advertiser-content.inmobiapis.com/tpce/v1/upload/events/download/jobs/file?job_id=GPID_11.csv_je66a52f7-3b77-4fee-b100-f5173fdff4de\"}\n",
      "GPID_12.csv\n",
      "{\"status\":\"OK\",\"message\":\"check the jobStatus via GET call of given jobUrl\",\"code\":200,\"jobUrl\":\"advertiser-content.inmobiapis.com/tpce/v1/upload/events/download/jobs/file?job_id=GPID_12.csv_j685cd779-3373-44ed-9e08-38561c0f19a1\"}\n",
      "GPID_13.csv\n",
      "{\"status\":\"OK\",\"message\":\"check the jobStatus via GET call of given jobUrl\",\"code\":200,\"jobUrl\":\"advertiser-content.inmobiapis.com/tpce/v1/upload/events/download/jobs/file?job_id=GPID_13.csv_j7bb70dc7-4527-4168-9dce-0a73f41aebdd\"}\n",
      "GPID_14.csv\n",
      "{\"status\":\"OK\",\"message\":\"check the jobStatus via GET call of given jobUrl\",\"code\":200,\"jobUrl\":\"advertiser-content.inmobiapis.com/tpce/v1/upload/events/download/jobs/file?job_id=GPID_14.csv_jadec62fb-d348-45b7-9e9d-0e0bcb471c37\"}\n",
      "GPID_15.csv\n",
      "{\"status\":\"OK\",\"message\":\"check the jobStatus via GET call of given jobUrl\",\"code\":200,\"jobUrl\":\"advertiser-content.inmobiapis.com/tpce/v1/upload/events/download/jobs/file?job_id=GPID_15.csv_j1d287f94-ff80-4563-9290-15e91e151889\"}\n",
      "GPID_16.csv\n",
      "{\"status\":\"OK\",\"message\":\"check the jobStatus via GET call of given jobUrl\",\"code\":200,\"jobUrl\":\"advertiser-content.inmobiapis.com/tpce/v1/upload/events/download/jobs/file?job_id=GPID_16.csv_jda45f337-7d1f-4b0e-aa52-3c3250e10056\"}\n",
      "GPID_17.csv\n",
      "{\"status\":\"OK\",\"message\":\"check the jobStatus via GET call of given jobUrl\",\"code\":200,\"jobUrl\":\"advertiser-content.inmobiapis.com/tpce/v1/upload/events/download/jobs/file?job_id=GPID_17.csv_j743d2bee-6698-41e4-bbdf-b64315253448\"}\n",
      "GPID_18.csv\n",
      "{\"status\":\"OK\",\"message\":\"check the jobStatus via GET call of given jobUrl\",\"code\":200,\"jobUrl\":\"advertiser-content.inmobiapis.com/tpce/v1/upload/events/download/jobs/file?job_id=GPID_18.csv_j949aded3-9ccc-479b-9496-25cb3791ed28\"}\n",
      "GPID_19.csv\n",
      "{\"status\":\"OK\",\"message\":\"check the jobStatus via GET call of given jobUrl\",\"code\":200,\"jobUrl\":\"advertiser-content.inmobiapis.com/tpce/v1/upload/events/download/jobs/file?job_id=GPID_19.csv_j08025b7a-60d1-4dab-a39c-56a261d5dcc8\"}\n",
      "GPID_2.csv\n",
      "{\"status\":\"OK\",\"message\":\"check the jobStatus via GET call of given jobUrl\",\"code\":200,\"jobUrl\":\"advertiser-content.inmobiapis.com/tpce/v1/upload/events/download/jobs/file?job_id=GPID_2.csv_jf7367c7f-a090-4502-b1f7-c431b78feb7e\"}\n",
      "GPID_20.csv\n",
      "{\"status\":\"OK\",\"message\":\"check the jobStatus via GET call of given jobUrl\",\"code\":200,\"jobUrl\":\"advertiser-content.inmobiapis.com/tpce/v1/upload/events/download/jobs/file?job_id=GPID_20.csv_jd33bdd7f-0dd4-4c78-9a82-f7df6f754606\"}\n",
      "GPID_21.csv\n",
      "{\"status\":\"OK\",\"message\":\"check the jobStatus via GET call of given jobUrl\",\"code\":200,\"jobUrl\":\"advertiser-content.inmobiapis.com/tpce/v1/upload/events/download/jobs/file?job_id=GPID_21.csv_j424f0244-092a-4df6-b87f-31dfd8b3625f\"}\n",
      "GPID_22.csv\n",
      "{\"status\":\"OK\",\"message\":\"check the jobStatus via GET call of given jobUrl\",\"code\":200,\"jobUrl\":\"advertiser-content.inmobiapis.com/tpce/v1/upload/events/download/jobs/file?job_id=GPID_22.csv_jf41e441b-6017-4324-b077-ccb99f6613b1\"}\n",
      "GPID_23.csv\n",
      "{\"status\":\"OK\",\"message\":\"check the jobStatus via GET call of given jobUrl\",\"code\":200,\"jobUrl\":\"advertiser-content.inmobiapis.com/tpce/v1/upload/events/download/jobs/file?job_id=GPID_23.csv_j2920e91f-bce3-483e-9a22-06092d7c7589\"}\n",
      "GPID_24.csv\n",
      "{\"status\":\"OK\",\"message\":\"check the jobStatus via GET call of given jobUrl\",\"code\":200,\"jobUrl\":\"advertiser-content.inmobiapis.com/tpce/v1/upload/events/download/jobs/file?job_id=GPID_24.csv_jfcfbdeed-8ce7-466d-be11-0d1ba2ab9065\"}\n",
      "GPID_25.csv\n",
      "{\"status\":\"OK\",\"message\":\"check the jobStatus via GET call of given jobUrl\",\"code\":200,\"jobUrl\":\"advertiser-content.inmobiapis.com/tpce/v1/upload/events/download/jobs/file?job_id=GPID_25.csv_j54387475-d1ab-4040-b65c-71c9b775349a\"}\n",
      "GPID_26.csv\n",
      "{\"status\":\"OK\",\"message\":\"check the jobStatus via GET call of given jobUrl\",\"code\":200,\"jobUrl\":\"advertiser-content.inmobiapis.com/tpce/v1/upload/events/download/jobs/file?job_id=GPID_26.csv_j61e17db8-af1b-4c56-8ced-abf3fb41fa88\"}\n",
      "GPID_27.csv\n",
      "{\"status\":\"OK\",\"message\":\"check the jobStatus via GET call of given jobUrl\",\"code\":200,\"jobUrl\":\"advertiser-content.inmobiapis.com/tpce/v1/upload/events/download/jobs/file?job_id=GPID_27.csv_jb2a2c877-a0a6-4e44-ab20-3a79de4d88ed\"}\n",
      "GPID_28.csv\n",
      "{\"status\":\"OK\",\"message\":\"check the jobStatus via GET call of given jobUrl\",\"code\":200,\"jobUrl\":\"advertiser-content.inmobiapis.com/tpce/v1/upload/events/download/jobs/file?job_id=GPID_28.csv_jf77687b8-dea5-4a43-aaab-5d7c4deb4227\"}\n",
      "GPID_29.csv\n",
      "{\"status\":\"OK\",\"message\":\"check the jobStatus via GET call of given jobUrl\",\"code\":200,\"jobUrl\":\"advertiser-content.inmobiapis.com/tpce/v1/upload/events/download/jobs/file?job_id=GPID_29.csv_je826d667-9d2c-4df0-8513-e5d71c06e31e\"}\n",
      "GPID_3.csv\n",
      "{\"status\":\"OK\",\"message\":\"check the jobStatus via GET call of given jobUrl\",\"code\":200,\"jobUrl\":\"advertiser-content.inmobiapis.com/tpce/v1/upload/events/download/jobs/file?job_id=GPID_3.csv_j2bd17788-a113-419b-8a5f-29b3a293d165\"}\n",
      "GPID_30.csv\n",
      "{\"status\":\"OK\",\"message\":\"check the jobStatus via GET call of given jobUrl\",\"code\":200,\"jobUrl\":\"advertiser-content.inmobiapis.com/tpce/v1/upload/events/download/jobs/file?job_id=GPID_30.csv_jd4d1684d-b834-41b7-a7f4-681a20739f25\"}\n",
      "GPID_31.csv\n",
      "{\"status\":\"OK\",\"message\":\"check the jobStatus via GET call of given jobUrl\",\"code\":200,\"jobUrl\":\"advertiser-content.inmobiapis.com/tpce/v1/upload/events/download/jobs/file?job_id=GPID_31.csv_j64e39f75-6a05-46ea-a2ee-d95b86aa1536\"}\n",
      "GPID_32.csv\n",
      "{\"status\":\"OK\",\"message\":\"check the jobStatus via GET call of given jobUrl\",\"code\":200,\"jobUrl\":\"advertiser-content.inmobiapis.com/tpce/v1/upload/events/download/jobs/file?job_id=GPID_32.csv_j2c761897-d1e2-4054-82f5-fe8b881ec2c9\"}\n",
      "GPID_33.csv\n",
      "{\"status\":\"OK\",\"message\":\"check the jobStatus via GET call of given jobUrl\",\"code\":200,\"jobUrl\":\"advertiser-content.inmobiapis.com/tpce/v1/upload/events/download/jobs/file?job_id=GPID_33.csv_jf39d7952-9e82-4dc0-9e5b-7409c9d3c4d1\"}\n",
      "GPID_34.csv\n",
      "{\"status\":\"OK\",\"message\":\"check the jobStatus via GET call of given jobUrl\",\"code\":200,\"jobUrl\":\"advertiser-content.inmobiapis.com/tpce/v1/upload/events/download/jobs/file?job_id=GPID_34.csv_j5edd4ffc-1a1b-4fc9-80f7-8e48b5beda9f\"}\n",
      "GPID_35.csv\n",
      "{\"status\":\"OK\",\"message\":\"check the jobStatus via GET call of given jobUrl\",\"code\":200,\"jobUrl\":\"advertiser-content.inmobiapis.com/tpce/v1/upload/events/download/jobs/file?job_id=GPID_35.csv_j5a538e49-59a6-45a2-a306-6bc6d82387d5\"}\n",
      "GPID_36.csv\n",
      "{\"status\":\"OK\",\"message\":\"check the jobStatus via GET call of given jobUrl\",\"code\":200,\"jobUrl\":\"advertiser-content.inmobiapis.com/tpce/v1/upload/events/download/jobs/file?job_id=GPID_36.csv_jc4cbf1fa-c167-471e-833a-271844fa7c8a\"}\n",
      "GPID_37.csv\n",
      "{\"status\":\"OK\",\"message\":\"check the jobStatus via GET call of given jobUrl\",\"code\":200,\"jobUrl\":\"advertiser-content.inmobiapis.com/tpce/v1/upload/events/download/jobs/file?job_id=GPID_37.csv_jc37d1da8-5413-4d37-956e-8ae5783a6ced\"}\n",
      "GPID_38.csv\n",
      "{\"status\":\"OK\",\"message\":\"check the jobStatus via GET call of given jobUrl\",\"code\":200,\"jobUrl\":\"advertiser-content.inmobiapis.com/tpce/v1/upload/events/download/jobs/file?job_id=GPID_38.csv_j9119148f-4834-4915-a8c3-a6ffa82e4c12\"}\n",
      "GPID_39.csv\n",
      "{\"status\":\"OK\",\"message\":\"check the jobStatus via GET call of given jobUrl\",\"code\":200,\"jobUrl\":\"advertiser-content.inmobiapis.com/tpce/v1/upload/events/download/jobs/file?job_id=GPID_39.csv_j3b193fb4-679d-4c5f-818e-d62c2e83b6f3\"}\n",
      "GPID_4.csv\n",
      "{\"status\":\"OK\",\"message\":\"check the jobStatus via GET call of given jobUrl\",\"code\":200,\"jobUrl\":\"advertiser-content.inmobiapis.com/tpce/v1/upload/events/download/jobs/file?job_id=GPID_4.csv_jd451fa0d-6a34-436b-93c9-4290d345bbdb\"}\n",
      "GPID_40.csv\n",
      "{\"status\":\"OK\",\"message\":\"check the jobStatus via GET call of given jobUrl\",\"code\":200,\"jobUrl\":\"advertiser-content.inmobiapis.com/tpce/v1/upload/events/download/jobs/file?job_id=GPID_40.csv_j367926be-4629-42fc-bf7e-8ca9b25a8ce9\"}\n",
      "GPID_41.csv\n",
      "{\"status\":\"OK\",\"message\":\"check the jobStatus via GET call of given jobUrl\",\"code\":200,\"jobUrl\":\"advertiser-content.inmobiapis.com/tpce/v1/upload/events/download/jobs/file?job_id=GPID_41.csv_j6c2d2c62-1932-43f1-b398-e4d70141d873\"}\n",
      "GPID_42.csv\n",
      "{\"status\":\"OK\",\"message\":\"check the jobStatus via GET call of given jobUrl\",\"code\":200,\"jobUrl\":\"advertiser-content.inmobiapis.com/tpce/v1/upload/events/download/jobs/file?job_id=GPID_42.csv_j84e32215-87d7-4b4e-8255-b4d426a122ac\"}\n",
      "GPID_43.csv\n",
      "{\"status\":\"OK\",\"message\":\"check the jobStatus via GET call of given jobUrl\",\"code\":200,\"jobUrl\":\"advertiser-content.inmobiapis.com/tpce/v1/upload/events/download/jobs/file?job_id=GPID_43.csv_j0da626aa-64d0-4aed-a0fc-83448b89e81a\"}\n",
      "GPID_44.csv\n",
      "{\"status\":\"OK\",\"message\":\"check the jobStatus via GET call of given jobUrl\",\"code\":200,\"jobUrl\":\"advertiser-content.inmobiapis.com/tpce/v1/upload/events/download/jobs/file?job_id=GPID_44.csv_j492775cf-f09a-4eb5-a71c-edae436f6891\"}\n",
      "GPID_45.csv\n",
      "{\"status\":\"OK\",\"message\":\"check the jobStatus via GET call of given jobUrl\",\"code\":200,\"jobUrl\":\"advertiser-content.inmobiapis.com/tpce/v1/upload/events/download/jobs/file?job_id=GPID_45.csv_j1b0c2b27-5025-40c2-973b-8cb70d55d1e4\"}\n",
      "GPID_46.csv\n",
      "{\"status\":\"OK\",\"message\":\"check the jobStatus via GET call of given jobUrl\",\"code\":200,\"jobUrl\":\"advertiser-content.inmobiapis.com/tpce/v1/upload/events/download/jobs/file?job_id=GPID_46.csv_jb971f52a-efbb-495c-9b6c-fbdf75b4c482\"}\n",
      "GPID_47.csv\n",
      "{\"status\":\"OK\",\"message\":\"check the jobStatus via GET call of given jobUrl\",\"code\":200,\"jobUrl\":\"advertiser-content.inmobiapis.com/tpce/v1/upload/events/download/jobs/file?job_id=GPID_47.csv_j6481fc1e-d357-4e64-b2a9-c524d5925f4b\"}\n",
      "GPID_48.csv\n",
      "{\"status\":\"OK\",\"message\":\"check the jobStatus via GET call of given jobUrl\",\"code\":200,\"jobUrl\":\"advertiser-content.inmobiapis.com/tpce/v1/upload/events/download/jobs/file?job_id=GPID_48.csv_jfb4ddb96-8bde-4a66-a8bb-8b83bec3f68b\"}\n",
      "GPID_49.csv\n",
      "{\"status\":\"OK\",\"message\":\"check the jobStatus via GET call of given jobUrl\",\"code\":200,\"jobUrl\":\"advertiser-content.inmobiapis.com/tpce/v1/upload/events/download/jobs/file?job_id=GPID_49.csv_jbeddc935-18d0-4829-bc3b-692b070859e1\"}\n",
      "GPID_5.csv\n",
      "{\"status\":\"OK\",\"message\":\"check the jobStatus via GET call of given jobUrl\",\"code\":200,\"jobUrl\":\"advertiser-content.inmobiapis.com/tpce/v1/upload/events/download/jobs/file?job_id=GPID_5.csv_jd89591e4-f18f-45c6-8d66-484081963922\"}\n",
      "GPID_50.csv\n",
      "{\"status\":\"OK\",\"message\":\"check the jobStatus via GET call of given jobUrl\",\"code\":200,\"jobUrl\":\"advertiser-content.inmobiapis.com/tpce/v1/upload/events/download/jobs/file?job_id=GPID_50.csv_jcea0529c-7d0e-45ec-96ad-cd740e108d55\"}\n",
      "GPID_51.csv\n",
      "{\"status\":\"OK\",\"message\":\"check the jobStatus via GET call of given jobUrl\",\"code\":200,\"jobUrl\":\"advertiser-content.inmobiapis.com/tpce/v1/upload/events/download/jobs/file?job_id=GPID_51.csv_jb2f332cc-9ef4-4526-90da-ad47dcf75d56\"}\n",
      "GPID_52.csv\n",
      "{\"status\":\"OK\",\"message\":\"check the jobStatus via GET call of given jobUrl\",\"code\":200,\"jobUrl\":\"advertiser-content.inmobiapis.com/tpce/v1/upload/events/download/jobs/file?job_id=GPID_52.csv_j3c6b9ca2-56e7-48d6-b6e3-986ebddd26a4\"}\n",
      "GPID_53.csv\n",
      "{\"status\":\"OK\",\"message\":\"check the jobStatus via GET call of given jobUrl\",\"code\":200,\"jobUrl\":\"advertiser-content.inmobiapis.com/tpce/v1/upload/events/download/jobs/file?job_id=GPID_53.csv_j025e96fe-0902-466c-96fb-43a450259b76\"}\n",
      "GPID_54.csv\n",
      "{\"status\":\"OK\",\"message\":\"check the jobStatus via GET call of given jobUrl\",\"code\":200,\"jobUrl\":\"advertiser-content.inmobiapis.com/tpce/v1/upload/events/download/jobs/file?job_id=GPID_54.csv_j083243c2-a45a-43b4-94c3-773d791a31a6\"}\n",
      "GPID_55.csv\n",
      "{\"status\":\"OK\",\"message\":\"check the jobStatus via GET call of given jobUrl\",\"code\":200,\"jobUrl\":\"advertiser-content.inmobiapis.com/tpce/v1/upload/events/download/jobs/file?job_id=GPID_55.csv_j97b45455-2453-4288-af4c-3f6194bef1b2\"}\n",
      "GPID_56.csv\n",
      "{\"status\":\"OK\",\"message\":\"check the jobStatus via GET call of given jobUrl\",\"code\":200,\"jobUrl\":\"advertiser-content.inmobiapis.com/tpce/v1/upload/events/download/jobs/file?job_id=GPID_56.csv_j4f95e6e3-f278-4e02-b216-39acfd59aaca\"}\n",
      "GPID_57.csv\n",
      "{\"status\":\"OK\",\"message\":\"check the jobStatus via GET call of given jobUrl\",\"code\":200,\"jobUrl\":\"advertiser-content.inmobiapis.com/tpce/v1/upload/events/download/jobs/file?job_id=GPID_57.csv_j15a70a42-814a-4300-bd27-c378336ac417\"}\n",
      "GPID_58.csv\n",
      "{\"status\":\"OK\",\"message\":\"check the jobStatus via GET call of given jobUrl\",\"code\":200,\"jobUrl\":\"advertiser-content.inmobiapis.com/tpce/v1/upload/events/download/jobs/file?job_id=GPID_58.csv_j6a48c0ee-2c23-4541-be48-02e91bae0b47\"}\n",
      "GPID_59.csv\n",
      "{\"status\":\"OK\",\"message\":\"check the jobStatus via GET call of given jobUrl\",\"code\":200,\"jobUrl\":\"advertiser-content.inmobiapis.com/tpce/v1/upload/events/download/jobs/file?job_id=GPID_59.csv_j0fa01e86-1129-4bea-a08f-7b466ef162cb\"}\n",
      "GPID_6.csv\n",
      "{\"status\":\"OK\",\"message\":\"check the jobStatus via GET call of given jobUrl\",\"code\":200,\"jobUrl\":\"advertiser-content.inmobiapis.com/tpce/v1/upload/events/download/jobs/file?job_id=GPID_6.csv_je59def51-c6b2-4acb-a44a-f9af50397533\"}\n",
      "GPID_60.csv\n",
      "{\"status\":\"OK\",\"message\":\"check the jobStatus via GET call of given jobUrl\",\"code\":200,\"jobUrl\":\"advertiser-content.inmobiapis.com/tpce/v1/upload/events/download/jobs/file?job_id=GPID_60.csv_jb448945e-fa2d-41a9-b994-b4ed12530183\"}\n",
      "GPID_61.csv\n",
      "{\"status\":\"OK\",\"message\":\"check the jobStatus via GET call of given jobUrl\",\"code\":200,\"jobUrl\":\"advertiser-content.inmobiapis.com/tpce/v1/upload/events/download/jobs/file?job_id=GPID_61.csv_j9c1367f5-95a5-43b4-9ec7-b3efb9b18371\"}\n",
      "GPID_62.csv\n",
      "{\"status\":\"OK\",\"message\":\"check the jobStatus via GET call of given jobUrl\",\"code\":200,\"jobUrl\":\"advertiser-content.inmobiapis.com/tpce/v1/upload/events/download/jobs/file?job_id=GPID_62.csv_j3851303c-ac5e-42ce-9004-695b1df6b950\"}\n",
      "GPID_63.csv\n",
      "{\"status\":\"OK\",\"message\":\"check the jobStatus via GET call of given jobUrl\",\"code\":200,\"jobUrl\":\"advertiser-content.inmobiapis.com/tpce/v1/upload/events/download/jobs/file?job_id=GPID_63.csv_j2e71b79e-c28e-4ab6-b3ec-8551843ed124\"}\n",
      "GPID_64.csv\n",
      "{\"status\":\"OK\",\"message\":\"check the jobStatus via GET call of given jobUrl\",\"code\":200,\"jobUrl\":\"advertiser-content.inmobiapis.com/tpce/v1/upload/events/download/jobs/file?job_id=GPID_64.csv_j9d5ba9ce-cda8-4e26-84a9-308650a09536\"}\n",
      "GPID_65.csv\n",
      "{\"status\":\"OK\",\"message\":\"check the jobStatus via GET call of given jobUrl\",\"code\":200,\"jobUrl\":\"advertiser-content.inmobiapis.com/tpce/v1/upload/events/download/jobs/file?job_id=GPID_65.csv_je81b76b1-c106-4e8c-8ab8-3d1afcbc6f09\"}\n",
      "GPID_66.csv\n",
      "{\"status\":\"OK\",\"message\":\"check the jobStatus via GET call of given jobUrl\",\"code\":200,\"jobUrl\":\"advertiser-content.inmobiapis.com/tpce/v1/upload/events/download/jobs/file?job_id=GPID_66.csv_j1f56f4a5-b3f6-4eeb-897b-b569e1204a2c\"}\n",
      "GPID_67.csv\n",
      "{\"status\":\"OK\",\"message\":\"check the jobStatus via GET call of given jobUrl\",\"code\":200,\"jobUrl\":\"advertiser-content.inmobiapis.com/tpce/v1/upload/events/download/jobs/file?job_id=GPID_67.csv_j7125f237-088b-45c6-99e1-41321a9b3eb4\"}\n",
      "GPID_68.csv\n",
      "{\"status\":\"OK\",\"message\":\"check the jobStatus via GET call of given jobUrl\",\"code\":200,\"jobUrl\":\"advertiser-content.inmobiapis.com/tpce/v1/upload/events/download/jobs/file?job_id=GPID_68.csv_j455dfb1e-9d30-476a-83b9-4faf98c16ad1\"}\n",
      "GPID_69.csv\n",
      "{\"status\":\"OK\",\"message\":\"check the jobStatus via GET call of given jobUrl\",\"code\":200,\"jobUrl\":\"advertiser-content.inmobiapis.com/tpce/v1/upload/events/download/jobs/file?job_id=GPID_69.csv_j160a51da-eb4d-4273-838a-912ea1b7e9b3\"}\n",
      "GPID_7.csv\n",
      "{\"status\":\"OK\",\"message\":\"check the jobStatus via GET call of given jobUrl\",\"code\":200,\"jobUrl\":\"advertiser-content.inmobiapis.com/tpce/v1/upload/events/download/jobs/file?job_id=GPID_7.csv_j3677339c-38a6-4f29-8fde-c22402c48a6d\"}\n",
      "GPID_70.csv\n",
      "{\"status\":\"OK\",\"message\":\"check the jobStatus via GET call of given jobUrl\",\"code\":200,\"jobUrl\":\"advertiser-content.inmobiapis.com/tpce/v1/upload/events/download/jobs/file?job_id=GPID_70.csv_j6925617c-b68e-42d4-bcb3-ea723847b384\"}\n",
      "GPID_71.csv\n",
      "{\"status\":\"OK\",\"message\":\"check the jobStatus via GET call of given jobUrl\",\"code\":200,\"jobUrl\":\"advertiser-content.inmobiapis.com/tpce/v1/upload/events/download/jobs/file?job_id=GPID_71.csv_j5121cb0b-2408-451f-b852-d3fe3dd5b549\"}\n",
      "GPID_72.csv\n",
      "{\"status\":\"OK\",\"message\":\"check the jobStatus via GET call of given jobUrl\",\"code\":200,\"jobUrl\":\"advertiser-content.inmobiapis.com/tpce/v1/upload/events/download/jobs/file?job_id=GPID_72.csv_j637bb83c-a10e-4bc0-afee-4373adccad49\"}\n",
      "GPID_73.csv\n",
      "{\"status\":\"OK\",\"message\":\"check the jobStatus via GET call of given jobUrl\",\"code\":200,\"jobUrl\":\"advertiser-content.inmobiapis.com/tpce/v1/upload/events/download/jobs/file?job_id=GPID_73.csv_jb530dbfa-9ae3-4424-963d-07df26399d4d\"}\n",
      "GPID_74.csv\n",
      "{\"status\":\"OK\",\"message\":\"check the jobStatus via GET call of given jobUrl\",\"code\":200,\"jobUrl\":\"advertiser-content.inmobiapis.com/tpce/v1/upload/events/download/jobs/file?job_id=GPID_74.csv_j208333d8-15b7-4bab-8558-38fef2571358\"}\n",
      "GPID_75.csv\n",
      "{\"status\":\"OK\",\"message\":\"check the jobStatus via GET call of given jobUrl\",\"code\":200,\"jobUrl\":\"advertiser-content.inmobiapis.com/tpce/v1/upload/events/download/jobs/file?job_id=GPID_75.csv_j099a7696-19fd-46eb-979d-5549746c46eb\"}\n",
      "GPID_76.csv\n",
      "{\"status\":\"OK\",\"message\":\"check the jobStatus via GET call of given jobUrl\",\"code\":200,\"jobUrl\":\"advertiser-content.inmobiapis.com/tpce/v1/upload/events/download/jobs/file?job_id=GPID_76.csv_j4f41632f-0e3e-4b27-9a9b-71ba5337c05c\"}\n",
      "GPID_77.csv\n",
      "{\"status\":\"OK\",\"message\":\"check the jobStatus via GET call of given jobUrl\",\"code\":200,\"jobUrl\":\"advertiser-content.inmobiapis.com/tpce/v1/upload/events/download/jobs/file?job_id=GPID_77.csv_jabbec9e2-b660-4efd-8e76-424132e55c8e\"}\n",
      "GPID_78.csv\n",
      "{\"status\":\"OK\",\"message\":\"check the jobStatus via GET call of given jobUrl\",\"code\":200,\"jobUrl\":\"advertiser-content.inmobiapis.com/tpce/v1/upload/events/download/jobs/file?job_id=GPID_78.csv_j9a7350f9-108c-4302-81b1-e76101d3f8bc\"}\n",
      "GPID_79.csv\n",
      "{\"status\":\"OK\",\"message\":\"check the jobStatus via GET call of given jobUrl\",\"code\":200,\"jobUrl\":\"advertiser-content.inmobiapis.com/tpce/v1/upload/events/download/jobs/file?job_id=GPID_79.csv_jd44ea4d7-a744-4a16-9755-433d83091a7f\"}\n",
      "GPID_8.csv\n",
      "{\"status\":\"OK\",\"message\":\"check the jobStatus via GET call of given jobUrl\",\"code\":200,\"jobUrl\":\"advertiser-content.inmobiapis.com/tpce/v1/upload/events/download/jobs/file?job_id=GPID_8.csv_jc64f8588-da04-4f69-9480-6de31da47636\"}\n",
      "GPID_80.csv\n",
      "{\"status\":\"OK\",\"message\":\"check the jobStatus via GET call of given jobUrl\",\"code\":200,\"jobUrl\":\"advertiser-content.inmobiapis.com/tpce/v1/upload/events/download/jobs/file?job_id=GPID_80.csv_jffee02db-d6c0-40fd-b94d-6059d0b5a5c4\"}\n",
      "GPID_81.csv\n",
      "{\"status\":\"OK\",\"message\":\"check the jobStatus via GET call of given jobUrl\",\"code\":200,\"jobUrl\":\"advertiser-content.inmobiapis.com/tpce/v1/upload/events/download/jobs/file?job_id=GPID_81.csv_jc759d26b-a3c9-4e70-89b0-1b821402116b\"}\n",
      "GPID_82.csv\n",
      "{\"status\":\"OK\",\"message\":\"check the jobStatus via GET call of given jobUrl\",\"code\":200,\"jobUrl\":\"advertiser-content.inmobiapis.com/tpce/v1/upload/events/download/jobs/file?job_id=GPID_82.csv_j1f191afc-be5a-4fbc-a037-e2ce3ceb412d\"}\n",
      "GPID_83.csv\n",
      "{\"status\":\"OK\",\"message\":\"check the jobStatus via GET call of given jobUrl\",\"code\":200,\"jobUrl\":\"advertiser-content.inmobiapis.com/tpce/v1/upload/events/download/jobs/file?job_id=GPID_83.csv_j762946ee-e7f9-4fbc-ba9e-2036cc3d1b97\"}\n",
      "GPID_84.csv\n",
      "{\"status\":\"OK\",\"message\":\"check the jobStatus via GET call of given jobUrl\",\"code\":200,\"jobUrl\":\"advertiser-content.inmobiapis.com/tpce/v1/upload/events/download/jobs/file?job_id=GPID_84.csv_j88f69c4e-0d1a-4759-a941-eca7a6bf6db5\"}\n",
      "GPID_85.csv\n",
      "{\"status\":\"OK\",\"message\":\"check the jobStatus via GET call of given jobUrl\",\"code\":200,\"jobUrl\":\"advertiser-content.inmobiapis.com/tpce/v1/upload/events/download/jobs/file?job_id=GPID_85.csv_j005e4d51-2261-4863-92ab-7ef1bf6ed2bf\"}\n",
      "GPID_86.csv\n",
      "{\"status\":\"OK\",\"message\":\"check the jobStatus via GET call of given jobUrl\",\"code\":200,\"jobUrl\":\"advertiser-content.inmobiapis.com/tpce/v1/upload/events/download/jobs/file?job_id=GPID_86.csv_j094019aa-10bb-467f-a723-3344a76e845d\"}\n",
      "GPID_87.csv\n",
      "{\"status\":\"OK\",\"message\":\"check the jobStatus via GET call of given jobUrl\",\"code\":200,\"jobUrl\":\"advertiser-content.inmobiapis.com/tpce/v1/upload/events/download/jobs/file?job_id=GPID_87.csv_j2d117274-3ecc-4f52-92f6-bfaa66c6f1bd\"}\n",
      "GPID_88.csv\n",
      "{\"status\":\"OK\",\"message\":\"check the jobStatus via GET call of given jobUrl\",\"code\":200,\"jobUrl\":\"advertiser-content.inmobiapis.com/tpce/v1/upload/events/download/jobs/file?job_id=GPID_88.csv_jdbe06f87-5cf0-40f5-8be7-37eb92acb796\"}\n",
      "GPID_89.csv\n",
      "{\"status\":\"OK\",\"message\":\"check the jobStatus via GET call of given jobUrl\",\"code\":200,\"jobUrl\":\"advertiser-content.inmobiapis.com/tpce/v1/upload/events/download/jobs/file?job_id=GPID_89.csv_j974bf51d-ed60-4774-a68d-6c385af0870a\"}\n",
      "GPID_9.csv\n",
      "{\"status\":\"OK\",\"message\":\"check the jobStatus via GET call of given jobUrl\",\"code\":200,\"jobUrl\":\"advertiser-content.inmobiapis.com/tpce/v1/upload/events/download/jobs/file?job_id=GPID_9.csv_j3153a44b-41ff-43cd-abe9-2eb622278662\"}\n",
      "GPID_90.csv\n",
      "{\"status\":\"OK\",\"message\":\"check the jobStatus via GET call of given jobUrl\",\"code\":200,\"jobUrl\":\"advertiser-content.inmobiapis.com/tpce/v1/upload/events/download/jobs/file?job_id=GPID_90.csv_j4994564b-5ed3-441a-9035-e79b11ef0579\"}\n",
      "GPID_91.csv\n",
      "{\"status\":\"OK\",\"message\":\"check the jobStatus via GET call of given jobUrl\",\"code\":200,\"jobUrl\":\"advertiser-content.inmobiapis.com/tpce/v1/upload/events/download/jobs/file?job_id=GPID_91.csv_je98c5c3a-04c7-49c2-aaae-9b7a40646a12\"}\n",
      "GPID_92.csv\n",
      "{\"status\":\"OK\",\"message\":\"check the jobStatus via GET call of given jobUrl\",\"code\":200,\"jobUrl\":\"advertiser-content.inmobiapis.com/tpce/v1/upload/events/download/jobs/file?job_id=GPID_92.csv_j3dbe5d42-1c74-4eef-b316-afd4e3aadbf6\"}\n",
      "GPID_93.csv\n",
      "{\"status\":\"OK\",\"message\":\"check the jobStatus via GET call of given jobUrl\",\"code\":200,\"jobUrl\":\"advertiser-content.inmobiapis.com/tpce/v1/upload/events/download/jobs/file?job_id=GPID_93.csv_j7772a4f6-0eac-4117-a09e-937ba3725cbf\"}\n",
      "GPID_94.csv\n",
      "{\"status\":\"OK\",\"message\":\"check the jobStatus via GET call of given jobUrl\",\"code\":200,\"jobUrl\":\"advertiser-content.inmobiapis.com/tpce/v1/upload/events/download/jobs/file?job_id=GPID_94.csv_j04d34d0b-ec27-4d4d-8893-52bd7480317f\"}\n",
      "GPID_95.csv\n",
      "{\"status\":\"OK\",\"message\":\"check the jobStatus via GET call of given jobUrl\",\"code\":200,\"jobUrl\":\"advertiser-content.inmobiapis.com/tpce/v1/upload/events/download/jobs/file?job_id=GPID_95.csv_j73f9a7a7-7ced-40a1-9449-602b62013eac\"}\n"
     ]
    }
   ],
   "source": [
    "# url to be used\n",
    "url = 'http://advertiser-content.inmobiapis.com/tpce/v1/upload/events/download'\n",
    "current_dir = os.getcwd()                   # storing the current directory\n",
    "os.chdir(os.path.join(os.getcwd(), \"GPID\")) # changing the current directory\n",
    "for name in files_inGPID:\n",
    "    print(name)                             # printing the file name\n",
    "    files = {'file': open(name, 'rb')}  \n",
    "    r = requests.post(url, files=files)     # posting the request\n",
    "    print(r.text)                           # checking the status\n",
    "\n",
    "os.chdir(current_dir)                       # coming back to previous directory"
   ]
  },
  {
   "cell_type": "code",
   "execution_count": 113,
   "metadata": {
    "collapsed": false
   },
   "outputs": [
    {
     "name": "stdout",
     "output_type": "stream",
     "text": [
      "IDFA_0.csv\n",
      "{\"status\":\"OK\",\"message\":\"check the jobStatus via GET call of given jobUrl\",\"code\":200,\"jobUrl\":\"advertiser-content.inmobiapis.com/tpce/v1/upload/events/download/jobs/file?job_id=IDFA_0.csv_jf573c4fa-cb05-4554-8ae7-f1ca5cb9f199\"}\n",
      "IDFA_1.csv\n",
      "{\"status\":\"OK\",\"message\":\"check the jobStatus via GET call of given jobUrl\",\"code\":200,\"jobUrl\":\"advertiser-content.inmobiapis.com/tpce/v1/upload/events/download/jobs/file?job_id=IDFA_1.csv_j885e8f76-a08f-4824-9120-64219a896b42\"}\n",
      "IDFA_10.csv\n",
      "{\"status\":\"OK\",\"message\":\"check the jobStatus via GET call of given jobUrl\",\"code\":200,\"jobUrl\":\"advertiser-content.inmobiapis.com/tpce/v1/upload/events/download/jobs/file?job_id=IDFA_10.csv_j55a81011-fd50-4527-9c2c-1e41c6194560\"}\n",
      "IDFA_100.csv\n",
      "{\"status\":\"OK\",\"message\":\"check the jobStatus via GET call of given jobUrl\",\"code\":200,\"jobUrl\":\"advertiser-content.inmobiapis.com/tpce/v1/upload/events/download/jobs/file?job_id=IDFA_100.csv_j825e04c1-7f14-4abe-9644-f26f2f4d8a64\"}\n",
      "IDFA_101.csv\n",
      "{\"status\":\"OK\",\"message\":\"check the jobStatus via GET call of given jobUrl\",\"code\":200,\"jobUrl\":\"advertiser-content.inmobiapis.com/tpce/v1/upload/events/download/jobs/file?job_id=IDFA_101.csv_j0b0b4226-e927-477d-b9f8-c1a88651962c\"}\n",
      "IDFA_102.csv\n",
      "{\"status\":\"OK\",\"message\":\"check the jobStatus via GET call of given jobUrl\",\"code\":200,\"jobUrl\":\"advertiser-content.inmobiapis.com/tpce/v1/upload/events/download/jobs/file?job_id=IDFA_102.csv_jfeac2745-f067-4c99-a2cd-beae8b6c457c\"}\n",
      "IDFA_103.csv\n",
      "{\"status\":\"OK\",\"message\":\"check the jobStatus via GET call of given jobUrl\",\"code\":200,\"jobUrl\":\"advertiser-content.inmobiapis.com/tpce/v1/upload/events/download/jobs/file?job_id=IDFA_103.csv_j16f53d95-1c86-40fb-9e83-f8b587808920\"}\n",
      "IDFA_104.csv\n",
      "{\"status\":\"OK\",\"message\":\"check the jobStatus via GET call of given jobUrl\",\"code\":200,\"jobUrl\":\"advertiser-content.inmobiapis.com/tpce/v1/upload/events/download/jobs/file?job_id=IDFA_104.csv_j2a1b247e-c58c-4466-9230-6844eed2965b\"}\n",
      "IDFA_105.csv\n",
      "{\"status\":\"OK\",\"message\":\"check the jobStatus via GET call of given jobUrl\",\"code\":200,\"jobUrl\":\"advertiser-content.inmobiapis.com/tpce/v1/upload/events/download/jobs/file?job_id=IDFA_105.csv_j56a8418f-7d08-4c28-91f5-e2f0b124afe8\"}\n",
      "IDFA_106.csv\n",
      "{\"status\":\"OK\",\"message\":\"check the jobStatus via GET call of given jobUrl\",\"code\":200,\"jobUrl\":\"advertiser-content.inmobiapis.com/tpce/v1/upload/events/download/jobs/file?job_id=IDFA_106.csv_jf2942a2d-d04c-4cf0-9aa1-d1d6163decbd\"}\n",
      "IDFA_107.csv\n",
      "{\"status\":\"OK\",\"message\":\"check the jobStatus via GET call of given jobUrl\",\"code\":200,\"jobUrl\":\"advertiser-content.inmobiapis.com/tpce/v1/upload/events/download/jobs/file?job_id=IDFA_107.csv_jc943eea3-17c4-4fa9-9a42-a52295adca31\"}\n",
      "IDFA_108.csv\n",
      "{\"status\":\"OK\",\"message\":\"check the jobStatus via GET call of given jobUrl\",\"code\":200,\"jobUrl\":\"advertiser-content.inmobiapis.com/tpce/v1/upload/events/download/jobs/file?job_id=IDFA_108.csv_j1ab4ac9e-3fe2-4b0e-ad1c-b80308742f86\"}\n",
      "IDFA_109.csv\n",
      "{\"status\":\"OK\",\"message\":\"check the jobStatus via GET call of given jobUrl\",\"code\":200,\"jobUrl\":\"advertiser-content.inmobiapis.com/tpce/v1/upload/events/download/jobs/file?job_id=IDFA_109.csv_j07fb7af4-c253-4e23-85fd-6b6101c31108\"}\n",
      "IDFA_11.csv\n",
      "{\"status\":\"OK\",\"message\":\"check the jobStatus via GET call of given jobUrl\",\"code\":200,\"jobUrl\":\"advertiser-content.inmobiapis.com/tpce/v1/upload/events/download/jobs/file?job_id=IDFA_11.csv_j65caab26-7b1a-439e-b0af-42e28e1d72b8\"}\n",
      "IDFA_110.csv\n",
      "{\"status\":\"OK\",\"message\":\"check the jobStatus via GET call of given jobUrl\",\"code\":200,\"jobUrl\":\"advertiser-content.inmobiapis.com/tpce/v1/upload/events/download/jobs/file?job_id=IDFA_110.csv_j940c7da4-4aba-45f0-8906-b3b0a5109740\"}\n",
      "IDFA_111.csv\n",
      "{\"status\":\"OK\",\"message\":\"check the jobStatus via GET call of given jobUrl\",\"code\":200,\"jobUrl\":\"advertiser-content.inmobiapis.com/tpce/v1/upload/events/download/jobs/file?job_id=IDFA_111.csv_j08beaf61-0b40-475b-9df8-5dd27ac96a4e\"}\n",
      "IDFA_112.csv\n",
      "{\"status\":\"OK\",\"message\":\"check the jobStatus via GET call of given jobUrl\",\"code\":200,\"jobUrl\":\"advertiser-content.inmobiapis.com/tpce/v1/upload/events/download/jobs/file?job_id=IDFA_112.csv_j5f85dbe6-10d8-4c4d-af71-c5ed6eea99e3\"}\n",
      "IDFA_113.csv\n",
      "{\"status\":\"OK\",\"message\":\"check the jobStatus via GET call of given jobUrl\",\"code\":200,\"jobUrl\":\"advertiser-content.inmobiapis.com/tpce/v1/upload/events/download/jobs/file?job_id=IDFA_113.csv_j7e8fab60-db67-48fd-adc3-286664065b57\"}\n",
      "IDFA_114.csv\n",
      "{\"status\":\"OK\",\"message\":\"check the jobStatus via GET call of given jobUrl\",\"code\":200,\"jobUrl\":\"advertiser-content.inmobiapis.com/tpce/v1/upload/events/download/jobs/file?job_id=IDFA_114.csv_j9e9c1a64-37be-4fb1-ab65-5d3196f44fb0\"}\n",
      "IDFA_115.csv\n",
      "{\"status\":\"OK\",\"message\":\"check the jobStatus via GET call of given jobUrl\",\"code\":200,\"jobUrl\":\"advertiser-content.inmobiapis.com/tpce/v1/upload/events/download/jobs/file?job_id=IDFA_115.csv_j465a8df3-b9db-4d5d-baf1-b4cf99e5610c\"}\n",
      "IDFA_116.csv\n",
      "{\"status\":\"OK\",\"message\":\"check the jobStatus via GET call of given jobUrl\",\"code\":200,\"jobUrl\":\"advertiser-content.inmobiapis.com/tpce/v1/upload/events/download/jobs/file?job_id=IDFA_116.csv_j833102a5-0fc2-4236-ad92-7b10bf4647f0\"}\n",
      "IDFA_117.csv\n",
      "{\"status\":\"OK\",\"message\":\"check the jobStatus via GET call of given jobUrl\",\"code\":200,\"jobUrl\":\"advertiser-content.inmobiapis.com/tpce/v1/upload/events/download/jobs/file?job_id=IDFA_117.csv_j44b6b6c8-4362-4240-9024-956a67d31c0f\"}\n",
      "IDFA_118.csv\n",
      "{\"status\":\"OK\",\"message\":\"check the jobStatus via GET call of given jobUrl\",\"code\":200,\"jobUrl\":\"advertiser-content.inmobiapis.com/tpce/v1/upload/events/download/jobs/file?job_id=IDFA_118.csv_j95f3b622-e9e0-44ba-92e6-a33adbb220de\"}\n",
      "IDFA_119.csv\n",
      "{\"status\":\"OK\",\"message\":\"check the jobStatus via GET call of given jobUrl\",\"code\":200,\"jobUrl\":\"advertiser-content.inmobiapis.com/tpce/v1/upload/events/download/jobs/file?job_id=IDFA_119.csv_j3beecb40-8152-472e-8c59-571332191c15\"}\n",
      "IDFA_12.csv\n",
      "{\"status\":\"OK\",\"message\":\"check the jobStatus via GET call of given jobUrl\",\"code\":200,\"jobUrl\":\"advertiser-content.inmobiapis.com/tpce/v1/upload/events/download/jobs/file?job_id=IDFA_12.csv_j7821a836-9722-40ce-b4d9-f87444b03292\"}\n",
      "IDFA_120.csv\n",
      "{\"status\":\"OK\",\"message\":\"check the jobStatus via GET call of given jobUrl\",\"code\":200,\"jobUrl\":\"advertiser-content.inmobiapis.com/tpce/v1/upload/events/download/jobs/file?job_id=IDFA_120.csv_j3e1995db-8d56-442d-bad1-884108049e1f\"}\n",
      "IDFA_121.csv\n",
      "{\"status\":\"OK\",\"message\":\"check the jobStatus via GET call of given jobUrl\",\"code\":200,\"jobUrl\":\"advertiser-content.inmobiapis.com/tpce/v1/upload/events/download/jobs/file?job_id=IDFA_121.csv_j8678e73e-21e5-42ce-a971-58f92900b02d\"}\n",
      "IDFA_122.csv\n",
      "{\"status\":\"OK\",\"message\":\"check the jobStatus via GET call of given jobUrl\",\"code\":200,\"jobUrl\":\"advertiser-content.inmobiapis.com/tpce/v1/upload/events/download/jobs/file?job_id=IDFA_122.csv_j3792d897-be79-4d4a-bb51-6cb76602e9a4\"}\n",
      "IDFA_123.csv\n",
      "{\"status\":\"OK\",\"message\":\"check the jobStatus via GET call of given jobUrl\",\"code\":200,\"jobUrl\":\"advertiser-content.inmobiapis.com/tpce/v1/upload/events/download/jobs/file?job_id=IDFA_123.csv_j7b9d0ce6-d10d-431c-a688-fceb9b0e41ce\"}\n",
      "IDFA_124.csv\n",
      "{\"status\":\"OK\",\"message\":\"check the jobStatus via GET call of given jobUrl\",\"code\":200,\"jobUrl\":\"advertiser-content.inmobiapis.com/tpce/v1/upload/events/download/jobs/file?job_id=IDFA_124.csv_je1de7fe6-53a9-4e16-ae07-62fb0856df52\"}\n",
      "IDFA_125.csv\n",
      "{\"status\":\"OK\",\"message\":\"check the jobStatus via GET call of given jobUrl\",\"code\":200,\"jobUrl\":\"advertiser-content.inmobiapis.com/tpce/v1/upload/events/download/jobs/file?job_id=IDFA_125.csv_j87f6023c-15fa-4c84-8499-a7fcf5bb9e45\"}\n",
      "IDFA_126.csv\n",
      "{\"status\":\"OK\",\"message\":\"check the jobStatus via GET call of given jobUrl\",\"code\":200,\"jobUrl\":\"advertiser-content.inmobiapis.com/tpce/v1/upload/events/download/jobs/file?job_id=IDFA_126.csv_j4770c976-2ab6-470b-b740-daab9c464ec7\"}\n",
      "IDFA_127.csv\n",
      "{\"status\":\"OK\",\"message\":\"check the jobStatus via GET call of given jobUrl\",\"code\":200,\"jobUrl\":\"advertiser-content.inmobiapis.com/tpce/v1/upload/events/download/jobs/file?job_id=IDFA_127.csv_je319681e-8d88-4135-8a69-646c39ed5777\"}\n",
      "IDFA_128.csv\n",
      "{\"status\":\"OK\",\"message\":\"check the jobStatus via GET call of given jobUrl\",\"code\":200,\"jobUrl\":\"advertiser-content.inmobiapis.com/tpce/v1/upload/events/download/jobs/file?job_id=IDFA_128.csv_j3e6a9351-aed0-4ce1-8cf9-6991346bedbf\"}\n",
      "IDFA_129.csv\n",
      "{\"status\":\"OK\",\"message\":\"check the jobStatus via GET call of given jobUrl\",\"code\":200,\"jobUrl\":\"advertiser-content.inmobiapis.com/tpce/v1/upload/events/download/jobs/file?job_id=IDFA_129.csv_je8131c03-f5ca-4685-953b-2192d7e95dfe\"}\n",
      "IDFA_13.csv\n",
      "{\"status\":\"OK\",\"message\":\"check the jobStatus via GET call of given jobUrl\",\"code\":200,\"jobUrl\":\"advertiser-content.inmobiapis.com/tpce/v1/upload/events/download/jobs/file?job_id=IDFA_13.csv_jb10faefb-d2e7-4c6f-bb81-763ceeac3df2\"}\n",
      "IDFA_130.csv\n",
      "{\"status\":\"OK\",\"message\":\"check the jobStatus via GET call of given jobUrl\",\"code\":200,\"jobUrl\":\"advertiser-content.inmobiapis.com/tpce/v1/upload/events/download/jobs/file?job_id=IDFA_130.csv_jc913e441-a7ba-4803-9a1f-0f964186e6a8\"}\n",
      "IDFA_131.csv\n",
      "{\"status\":\"OK\",\"message\":\"check the jobStatus via GET call of given jobUrl\",\"code\":200,\"jobUrl\":\"advertiser-content.inmobiapis.com/tpce/v1/upload/events/download/jobs/file?job_id=IDFA_131.csv_j5d9cbd67-fca2-4b1d-a2a7-00c07a312d77\"}\n",
      "IDFA_132.csv\n",
      "{\"status\":\"OK\",\"message\":\"check the jobStatus via GET call of given jobUrl\",\"code\":200,\"jobUrl\":\"advertiser-content.inmobiapis.com/tpce/v1/upload/events/download/jobs/file?job_id=IDFA_132.csv_j5412b719-b54c-41fe-9a9b-044c34c6bac2\"}\n",
      "IDFA_133.csv\n",
      "{\"status\":\"OK\",\"message\":\"check the jobStatus via GET call of given jobUrl\",\"code\":200,\"jobUrl\":\"advertiser-content.inmobiapis.com/tpce/v1/upload/events/download/jobs/file?job_id=IDFA_133.csv_jc95b57b7-8350-461d-a0c6-c6a9c2cfb513\"}\n",
      "IDFA_134.csv\n",
      "{\"status\":\"OK\",\"message\":\"check the jobStatus via GET call of given jobUrl\",\"code\":200,\"jobUrl\":\"advertiser-content.inmobiapis.com/tpce/v1/upload/events/download/jobs/file?job_id=IDFA_134.csv_j269aa380-4f75-4d3d-86f7-790e59a0ab56\"}\n",
      "IDFA_135.csv\n",
      "{\"status\":\"OK\",\"message\":\"check the jobStatus via GET call of given jobUrl\",\"code\":200,\"jobUrl\":\"advertiser-content.inmobiapis.com/tpce/v1/upload/events/download/jobs/file?job_id=IDFA_135.csv_je9707b37-fe4d-4c91-bfd0-c04fca9f81b3\"}\n",
      "IDFA_136.csv\n",
      "{\"status\":\"OK\",\"message\":\"check the jobStatus via GET call of given jobUrl\",\"code\":200,\"jobUrl\":\"advertiser-content.inmobiapis.com/tpce/v1/upload/events/download/jobs/file?job_id=IDFA_136.csv_j9d7fd4d6-649e-4533-8ab9-3ad904a25c66\"}\n",
      "IDFA_137.csv\n",
      "{\"status\":\"OK\",\"message\":\"check the jobStatus via GET call of given jobUrl\",\"code\":200,\"jobUrl\":\"advertiser-content.inmobiapis.com/tpce/v1/upload/events/download/jobs/file?job_id=IDFA_137.csv_j754e5704-d619-4b0a-8418-41532f9b4926\"}\n",
      "IDFA_138.csv\n",
      "{\"status\":\"OK\",\"message\":\"check the jobStatus via GET call of given jobUrl\",\"code\":200,\"jobUrl\":\"advertiser-content.inmobiapis.com/tpce/v1/upload/events/download/jobs/file?job_id=IDFA_138.csv_j8244ccae-ed88-4ed2-8d57-d4e778148afa\"}\n",
      "IDFA_139.csv\n",
      "{\"status\":\"OK\",\"message\":\"check the jobStatus via GET call of given jobUrl\",\"code\":200,\"jobUrl\":\"advertiser-content.inmobiapis.com/tpce/v1/upload/events/download/jobs/file?job_id=IDFA_139.csv_jae50c7f5-91d3-4808-8a07-f0014608b078\"}\n",
      "IDFA_14.csv\n",
      "{\"status\":\"OK\",\"message\":\"check the jobStatus via GET call of given jobUrl\",\"code\":200,\"jobUrl\":\"advertiser-content.inmobiapis.com/tpce/v1/upload/events/download/jobs/file?job_id=IDFA_14.csv_j2f84e45d-3c93-4001-9b6f-06b189e1b34a\"}\n",
      "IDFA_140.csv\n",
      "{\"status\":\"OK\",\"message\":\"check the jobStatus via GET call of given jobUrl\",\"code\":200,\"jobUrl\":\"advertiser-content.inmobiapis.com/tpce/v1/upload/events/download/jobs/file?job_id=IDFA_140.csv_jfc5a07e2-c898-4e84-a1d2-a3bad97d6fb2\"}\n",
      "IDFA_141.csv\n",
      "{\"status\":\"OK\",\"message\":\"check the jobStatus via GET call of given jobUrl\",\"code\":200,\"jobUrl\":\"advertiser-content.inmobiapis.com/tpce/v1/upload/events/download/jobs/file?job_id=IDFA_141.csv_jcf283617-ef18-45ba-a0c0-022a90a9bd86\"}\n",
      "IDFA_142.csv\n",
      "{\"status\":\"OK\",\"message\":\"check the jobStatus via GET call of given jobUrl\",\"code\":200,\"jobUrl\":\"advertiser-content.inmobiapis.com/tpce/v1/upload/events/download/jobs/file?job_id=IDFA_142.csv_jc00c67d8-9014-4fcc-bb5d-91151aaadda1\"}\n",
      "IDFA_143.csv\n",
      "{\"status\":\"OK\",\"message\":\"check the jobStatus via GET call of given jobUrl\",\"code\":200,\"jobUrl\":\"advertiser-content.inmobiapis.com/tpce/v1/upload/events/download/jobs/file?job_id=IDFA_143.csv_j8cea317f-55d3-4b12-b7f4-eca331cfd094\"}\n",
      "IDFA_144.csv\n",
      "{\"status\":\"OK\",\"message\":\"check the jobStatus via GET call of given jobUrl\",\"code\":200,\"jobUrl\":\"advertiser-content.inmobiapis.com/tpce/v1/upload/events/download/jobs/file?job_id=IDFA_144.csv_j089cfa50-8b24-4318-afe1-e744d0a936e0\"}\n",
      "IDFA_145.csv\n",
      "{\"status\":\"OK\",\"message\":\"check the jobStatus via GET call of given jobUrl\",\"code\":200,\"jobUrl\":\"advertiser-content.inmobiapis.com/tpce/v1/upload/events/download/jobs/file?job_id=IDFA_145.csv_j5a050216-d8dd-4a28-9bd5-332e479c3780\"}\n",
      "IDFA_146.csv\n",
      "{\"status\":\"OK\",\"message\":\"check the jobStatus via GET call of given jobUrl\",\"code\":200,\"jobUrl\":\"advertiser-content.inmobiapis.com/tpce/v1/upload/events/download/jobs/file?job_id=IDFA_146.csv_j863a81af-a9d6-493f-8196-b894e6b0862a\"}\n",
      "IDFA_147.csv\n",
      "{\"status\":\"OK\",\"message\":\"check the jobStatus via GET call of given jobUrl\",\"code\":200,\"jobUrl\":\"advertiser-content.inmobiapis.com/tpce/v1/upload/events/download/jobs/file?job_id=IDFA_147.csv_j3b3931e9-46a9-419a-a63d-90bd9960b6a6\"}\n",
      "IDFA_148.csv\n",
      "{\"status\":\"OK\",\"message\":\"check the jobStatus via GET call of given jobUrl\",\"code\":200,\"jobUrl\":\"advertiser-content.inmobiapis.com/tpce/v1/upload/events/download/jobs/file?job_id=IDFA_148.csv_j77cdc725-aa20-4f66-be56-69187b6ee99c\"}\n",
      "IDFA_149.csv\n",
      "{\"status\":\"OK\",\"message\":\"check the jobStatus via GET call of given jobUrl\",\"code\":200,\"jobUrl\":\"advertiser-content.inmobiapis.com/tpce/v1/upload/events/download/jobs/file?job_id=IDFA_149.csv_jb1ff3f45-bd62-4c52-96cc-3cdc7ffd34cf\"}\n",
      "IDFA_15.csv\n",
      "{\"status\":\"OK\",\"message\":\"check the jobStatus via GET call of given jobUrl\",\"code\":200,\"jobUrl\":\"advertiser-content.inmobiapis.com/tpce/v1/upload/events/download/jobs/file?job_id=IDFA_15.csv_j1fd90e55-8ec6-465e-b8fe-93334684ddb2\"}\n",
      "IDFA_150.csv\n",
      "{\"status\":\"OK\",\"message\":\"check the jobStatus via GET call of given jobUrl\",\"code\":200,\"jobUrl\":\"advertiser-content.inmobiapis.com/tpce/v1/upload/events/download/jobs/file?job_id=IDFA_150.csv_j2c3bdfdc-5d0d-46a7-b9f2-34087d207586\"}\n",
      "IDFA_151.csv\n",
      "{\"status\":\"OK\",\"message\":\"check the jobStatus via GET call of given jobUrl\",\"code\":200,\"jobUrl\":\"advertiser-content.inmobiapis.com/tpce/v1/upload/events/download/jobs/file?job_id=IDFA_151.csv_j9efb7436-abf8-4005-82f4-d86679348e60\"}\n",
      "IDFA_152.csv\n",
      "{\"status\":\"OK\",\"message\":\"check the jobStatus via GET call of given jobUrl\",\"code\":200,\"jobUrl\":\"advertiser-content.inmobiapis.com/tpce/v1/upload/events/download/jobs/file?job_id=IDFA_152.csv_j66b12f8c-b5ac-40a6-93bc-7a18781685af\"}\n",
      "IDFA_153.csv\n",
      "{\"status\":\"OK\",\"message\":\"check the jobStatus via GET call of given jobUrl\",\"code\":200,\"jobUrl\":\"advertiser-content.inmobiapis.com/tpce/v1/upload/events/download/jobs/file?job_id=IDFA_153.csv_jd8bdfe94-d467-4b07-bb76-4c3656121f73\"}\n",
      "IDFA_154.csv\n",
      "{\"status\":\"OK\",\"message\":\"check the jobStatus via GET call of given jobUrl\",\"code\":200,\"jobUrl\":\"advertiser-content.inmobiapis.com/tpce/v1/upload/events/download/jobs/file?job_id=IDFA_154.csv_j979ecb5b-e0d0-4cda-8e2d-cdc2141f31dc\"}\n",
      "IDFA_155.csv\n",
      "{\"status\":\"OK\",\"message\":\"check the jobStatus via GET call of given jobUrl\",\"code\":200,\"jobUrl\":\"advertiser-content.inmobiapis.com/tpce/v1/upload/events/download/jobs/file?job_id=IDFA_155.csv_jb26e952e-496c-4148-81b2-82c41f1c71d1\"}\n",
      "IDFA_156.csv\n",
      "{\"status\":\"OK\",\"message\":\"check the jobStatus via GET call of given jobUrl\",\"code\":200,\"jobUrl\":\"advertiser-content.inmobiapis.com/tpce/v1/upload/events/download/jobs/file?job_id=IDFA_156.csv_jb69580ed-cea2-4a73-8166-c08e04f36d6b\"}\n",
      "IDFA_157.csv\n",
      "{\"status\":\"OK\",\"message\":\"check the jobStatus via GET call of given jobUrl\",\"code\":200,\"jobUrl\":\"advertiser-content.inmobiapis.com/tpce/v1/upload/events/download/jobs/file?job_id=IDFA_157.csv_je7315adb-4229-45ab-9e4c-30570d6c03aa\"}\n",
      "IDFA_158.csv\n",
      "{\"status\":\"OK\",\"message\":\"check the jobStatus via GET call of given jobUrl\",\"code\":200,\"jobUrl\":\"advertiser-content.inmobiapis.com/tpce/v1/upload/events/download/jobs/file?job_id=IDFA_158.csv_j514adcb6-b820-482e-b2d1-a6b6e7583f26\"}\n",
      "IDFA_159.csv\n",
      "{\"status\":\"OK\",\"message\":\"check the jobStatus via GET call of given jobUrl\",\"code\":200,\"jobUrl\":\"advertiser-content.inmobiapis.com/tpce/v1/upload/events/download/jobs/file?job_id=IDFA_159.csv_jca9d58de-5c44-43a5-96a9-4b5001fe11b8\"}\n",
      "IDFA_16.csv\n",
      "{\"status\":\"OK\",\"message\":\"check the jobStatus via GET call of given jobUrl\",\"code\":200,\"jobUrl\":\"advertiser-content.inmobiapis.com/tpce/v1/upload/events/download/jobs/file?job_id=IDFA_16.csv_j331ac036-1f99-4ac0-9450-3b3112cad64e\"}\n",
      "IDFA_160.csv\n",
      "{\"status\":\"OK\",\"message\":\"check the jobStatus via GET call of given jobUrl\",\"code\":200,\"jobUrl\":\"advertiser-content.inmobiapis.com/tpce/v1/upload/events/download/jobs/file?job_id=IDFA_160.csv_j9ab1fd8c-d3b3-48b3-88fc-a6a8e1a70a66\"}\n",
      "IDFA_161.csv\n",
      "{\"status\":\"OK\",\"message\":\"check the jobStatus via GET call of given jobUrl\",\"code\":200,\"jobUrl\":\"advertiser-content.inmobiapis.com/tpce/v1/upload/events/download/jobs/file?job_id=IDFA_161.csv_jc2a43c51-e89e-483a-b730-4c2424cb89bc\"}\n",
      "IDFA_162.csv\n",
      "{\"status\":\"OK\",\"message\":\"check the jobStatus via GET call of given jobUrl\",\"code\":200,\"jobUrl\":\"advertiser-content.inmobiapis.com/tpce/v1/upload/events/download/jobs/file?job_id=IDFA_162.csv_j9fd740fb-f553-41ad-9374-aa285460446b\"}\n",
      "IDFA_163.csv\n",
      "{\"status\":\"OK\",\"message\":\"check the jobStatus via GET call of given jobUrl\",\"code\":200,\"jobUrl\":\"advertiser-content.inmobiapis.com/tpce/v1/upload/events/download/jobs/file?job_id=IDFA_163.csv_jbd637d7e-30a8-4cb1-9d90-5941476e3d56\"}\n",
      "IDFA_164.csv\n",
      "{\"status\":\"OK\",\"message\":\"check the jobStatus via GET call of given jobUrl\",\"code\":200,\"jobUrl\":\"advertiser-content.inmobiapis.com/tpce/v1/upload/events/download/jobs/file?job_id=IDFA_164.csv_j43a22348-5707-48dc-8bb4-4d5a80980a08\"}\n",
      "IDFA_165.csv\n",
      "{\"status\":\"OK\",\"message\":\"check the jobStatus via GET call of given jobUrl\",\"code\":200,\"jobUrl\":\"advertiser-content.inmobiapis.com/tpce/v1/upload/events/download/jobs/file?job_id=IDFA_165.csv_jb092229d-d59d-4810-809a-e8d81cdbab14\"}\n",
      "IDFA_166.csv\n",
      "{\"status\":\"OK\",\"message\":\"check the jobStatus via GET call of given jobUrl\",\"code\":200,\"jobUrl\":\"advertiser-content.inmobiapis.com/tpce/v1/upload/events/download/jobs/file?job_id=IDFA_166.csv_j80d1569f-099d-4648-8f92-c0ddf8866f4e\"}\n",
      "IDFA_167.csv\n",
      "{\"status\":\"OK\",\"message\":\"check the jobStatus via GET call of given jobUrl\",\"code\":200,\"jobUrl\":\"advertiser-content.inmobiapis.com/tpce/v1/upload/events/download/jobs/file?job_id=IDFA_167.csv_jbccae130-157a-45b8-9ff8-d9ca928643f1\"}\n",
      "IDFA_168.csv\n",
      "{\"status\":\"OK\",\"message\":\"check the jobStatus via GET call of given jobUrl\",\"code\":200,\"jobUrl\":\"advertiser-content.inmobiapis.com/tpce/v1/upload/events/download/jobs/file?job_id=IDFA_168.csv_j3e80e892-ace3-4a90-a641-156caae0da05\"}\n",
      "IDFA_169.csv\n",
      "{\"status\":\"OK\",\"message\":\"check the jobStatus via GET call of given jobUrl\",\"code\":200,\"jobUrl\":\"advertiser-content.inmobiapis.com/tpce/v1/upload/events/download/jobs/file?job_id=IDFA_169.csv_j6e3011bb-cf27-42fa-a439-47ab09d1dba0\"}\n",
      "IDFA_17.csv\n",
      "{\"status\":\"OK\",\"message\":\"check the jobStatus via GET call of given jobUrl\",\"code\":200,\"jobUrl\":\"advertiser-content.inmobiapis.com/tpce/v1/upload/events/download/jobs/file?job_id=IDFA_17.csv_jfa9d6966-3c94-4b57-88c1-8c641ac6f49b\"}\n",
      "IDFA_170.csv\n",
      "{\"status\":\"OK\",\"message\":\"check the jobStatus via GET call of given jobUrl\",\"code\":200,\"jobUrl\":\"advertiser-content.inmobiapis.com/tpce/v1/upload/events/download/jobs/file?job_id=IDFA_170.csv_je3b6d46b-8fdc-4dd5-9327-24f21f918aa6\"}\n",
      "IDFA_171.csv\n",
      "{\"status\":\"OK\",\"message\":\"check the jobStatus via GET call of given jobUrl\",\"code\":200,\"jobUrl\":\"advertiser-content.inmobiapis.com/tpce/v1/upload/events/download/jobs/file?job_id=IDFA_171.csv_j2fe2e61c-f964-4a66-bcba-606fd28bbf2c\"}\n",
      "IDFA_172.csv\n",
      "{\"status\":\"OK\",\"message\":\"check the jobStatus via GET call of given jobUrl\",\"code\":200,\"jobUrl\":\"advertiser-content.inmobiapis.com/tpce/v1/upload/events/download/jobs/file?job_id=IDFA_172.csv_j85c55022-6928-475b-9a32-69bd2794dd7b\"}\n",
      "IDFA_173.csv\n",
      "{\"status\":\"OK\",\"message\":\"check the jobStatus via GET call of given jobUrl\",\"code\":200,\"jobUrl\":\"advertiser-content.inmobiapis.com/tpce/v1/upload/events/download/jobs/file?job_id=IDFA_173.csv_j4c9c93c7-0af1-4423-93d7-cd79a94d8b83\"}\n",
      "IDFA_174.csv\n",
      "{\"status\":\"OK\",\"message\":\"check the jobStatus via GET call of given jobUrl\",\"code\":200,\"jobUrl\":\"advertiser-content.inmobiapis.com/tpce/v1/upload/events/download/jobs/file?job_id=IDFA_174.csv_j92e7b412-bc3b-42f8-abd5-0819246e4787\"}\n",
      "IDFA_175.csv\n",
      "{\"status\":\"OK\",\"message\":\"check the jobStatus via GET call of given jobUrl\",\"code\":200,\"jobUrl\":\"advertiser-content.inmobiapis.com/tpce/v1/upload/events/download/jobs/file?job_id=IDFA_175.csv_j13126ffc-b4aa-4144-b8b8-0b7cd31370dc\"}\n",
      "IDFA_176.csv\n",
      "{\"status\":\"OK\",\"message\":\"check the jobStatus via GET call of given jobUrl\",\"code\":200,\"jobUrl\":\"advertiser-content.inmobiapis.com/tpce/v1/upload/events/download/jobs/file?job_id=IDFA_176.csv_j516017c0-bacb-4edb-bd5f-de2b244fd7c5\"}\n",
      "IDFA_177.csv\n",
      "{\"status\":\"OK\",\"message\":\"check the jobStatus via GET call of given jobUrl\",\"code\":200,\"jobUrl\":\"advertiser-content.inmobiapis.com/tpce/v1/upload/events/download/jobs/file?job_id=IDFA_177.csv_ja01d5c12-be0b-4d53-b9d8-db43cec32bec\"}\n",
      "IDFA_178.csv\n",
      "{\"status\":\"OK\",\"message\":\"check the jobStatus via GET call of given jobUrl\",\"code\":200,\"jobUrl\":\"advertiser-content.inmobiapis.com/tpce/v1/upload/events/download/jobs/file?job_id=IDFA_178.csv_jdbe56aba-3ddd-447c-8449-2b1c494ec100\"}\n",
      "IDFA_179.csv\n",
      "{\"status\":\"OK\",\"message\":\"check the jobStatus via GET call of given jobUrl\",\"code\":200,\"jobUrl\":\"advertiser-content.inmobiapis.com/tpce/v1/upload/events/download/jobs/file?job_id=IDFA_179.csv_j272b7563-e124-4755-9880-0568fda48e3a\"}\n",
      "IDFA_18.csv\n",
      "{\"status\":\"OK\",\"message\":\"check the jobStatus via GET call of given jobUrl\",\"code\":200,\"jobUrl\":\"advertiser-content.inmobiapis.com/tpce/v1/upload/events/download/jobs/file?job_id=IDFA_18.csv_j659200e2-10d9-499a-8b25-388dbf88c421\"}\n",
      "IDFA_180.csv\n",
      "{\"status\":\"OK\",\"message\":\"check the jobStatus via GET call of given jobUrl\",\"code\":200,\"jobUrl\":\"advertiser-content.inmobiapis.com/tpce/v1/upload/events/download/jobs/file?job_id=IDFA_180.csv_j633908f9-8ba6-4fe3-980d-9e60fbcca389\"}\n",
      "IDFA_181.csv\n",
      "{\"status\":\"OK\",\"message\":\"check the jobStatus via GET call of given jobUrl\",\"code\":200,\"jobUrl\":\"advertiser-content.inmobiapis.com/tpce/v1/upload/events/download/jobs/file?job_id=IDFA_181.csv_je8f1abde-741a-4f5a-ba73-502dce45f940\"}\n",
      "IDFA_182.csv\n",
      "{\"status\":\"OK\",\"message\":\"check the jobStatus via GET call of given jobUrl\",\"code\":200,\"jobUrl\":\"advertiser-content.inmobiapis.com/tpce/v1/upload/events/download/jobs/file?job_id=IDFA_182.csv_jf049d006-1d96-4665-af8d-acac9b6a9345\"}\n",
      "IDFA_183.csv\n",
      "{\"status\":\"OK\",\"message\":\"check the jobStatus via GET call of given jobUrl\",\"code\":200,\"jobUrl\":\"advertiser-content.inmobiapis.com/tpce/v1/upload/events/download/jobs/file?job_id=IDFA_183.csv_jf4d953c9-f77d-4f6b-b0b7-dc130cff492d\"}\n",
      "IDFA_184.csv\n",
      "{\"status\":\"OK\",\"message\":\"check the jobStatus via GET call of given jobUrl\",\"code\":200,\"jobUrl\":\"advertiser-content.inmobiapis.com/tpce/v1/upload/events/download/jobs/file?job_id=IDFA_184.csv_jf65e6048-d923-4387-9e76-3f1fad0e6de7\"}\n",
      "IDFA_185.csv\n",
      "{\"status\":\"OK\",\"message\":\"check the jobStatus via GET call of given jobUrl\",\"code\":200,\"jobUrl\":\"advertiser-content.inmobiapis.com/tpce/v1/upload/events/download/jobs/file?job_id=IDFA_185.csv_jaab09772-8ba1-42e3-83bd-62d2f470fd70\"}\n",
      "IDFA_186.csv\n",
      "{\"status\":\"OK\",\"message\":\"check the jobStatus via GET call of given jobUrl\",\"code\":200,\"jobUrl\":\"advertiser-content.inmobiapis.com/tpce/v1/upload/events/download/jobs/file?job_id=IDFA_186.csv_jd32e5a6a-4571-4ceb-9a6d-f62446024af2\"}\n",
      "IDFA_187.csv\n",
      "{\"status\":\"OK\",\"message\":\"check the jobStatus via GET call of given jobUrl\",\"code\":200,\"jobUrl\":\"advertiser-content.inmobiapis.com/tpce/v1/upload/events/download/jobs/file?job_id=IDFA_187.csv_j776529df-e72f-4061-970f-fe295c779501\"}\n",
      "IDFA_188.csv\n",
      "{\"status\":\"OK\",\"message\":\"check the jobStatus via GET call of given jobUrl\",\"code\":200,\"jobUrl\":\"advertiser-content.inmobiapis.com/tpce/v1/upload/events/download/jobs/file?job_id=IDFA_188.csv_j69c3de6a-f979-4a55-bf6b-85c395ff0248\"}\n",
      "IDFA_189.csv\n",
      "{\"status\":\"OK\",\"message\":\"check the jobStatus via GET call of given jobUrl\",\"code\":200,\"jobUrl\":\"advertiser-content.inmobiapis.com/tpce/v1/upload/events/download/jobs/file?job_id=IDFA_189.csv_ja17fd4dd-19a4-44b5-bba8-ecd0d1b90476\"}\n",
      "IDFA_19.csv\n",
      "{\"status\":\"OK\",\"message\":\"check the jobStatus via GET call of given jobUrl\",\"code\":200,\"jobUrl\":\"advertiser-content.inmobiapis.com/tpce/v1/upload/events/download/jobs/file?job_id=IDFA_19.csv_jf551a547-5053-4d73-8799-d37bc62d7a3e\"}\n",
      "IDFA_190.csv\n",
      "{\"status\":\"OK\",\"message\":\"check the jobStatus via GET call of given jobUrl\",\"code\":200,\"jobUrl\":\"advertiser-content.inmobiapis.com/tpce/v1/upload/events/download/jobs/file?job_id=IDFA_190.csv_j77ac11e5-20da-46f9-8f6a-2da0ad458068\"}\n",
      "IDFA_191.csv\n",
      "{\"status\":\"OK\",\"message\":\"check the jobStatus via GET call of given jobUrl\",\"code\":200,\"jobUrl\":\"advertiser-content.inmobiapis.com/tpce/v1/upload/events/download/jobs/file?job_id=IDFA_191.csv_j81dd613d-690a-4339-b1ef-8be387764ebf\"}\n",
      "IDFA_192.csv\n",
      "{\"status\":\"OK\",\"message\":\"check the jobStatus via GET call of given jobUrl\",\"code\":200,\"jobUrl\":\"advertiser-content.inmobiapis.com/tpce/v1/upload/events/download/jobs/file?job_id=IDFA_192.csv_j6089ce86-ed5c-4928-ac27-17abdef0d33d\"}\n",
      "IDFA_193.csv\n",
      "{\"status\":\"OK\",\"message\":\"check the jobStatus via GET call of given jobUrl\",\"code\":200,\"jobUrl\":\"advertiser-content.inmobiapis.com/tpce/v1/upload/events/download/jobs/file?job_id=IDFA_193.csv_j921a5e27-3722-41ae-a211-bb4d5de526ea\"}\n",
      "IDFA_194.csv\n",
      "{\"status\":\"OK\",\"message\":\"check the jobStatus via GET call of given jobUrl\",\"code\":200,\"jobUrl\":\"advertiser-content.inmobiapis.com/tpce/v1/upload/events/download/jobs/file?job_id=IDFA_194.csv_jb90634a2-96df-49b7-a93e-73cb818e524e\"}\n",
      "IDFA_195.csv\n",
      "{\"status\":\"OK\",\"message\":\"check the jobStatus via GET call of given jobUrl\",\"code\":200,\"jobUrl\":\"advertiser-content.inmobiapis.com/tpce/v1/upload/events/download/jobs/file?job_id=IDFA_195.csv_ja7b7f13b-20b8-4dde-b738-9796cbd0c4a7\"}\n",
      "IDFA_196.csv\n",
      "{\"status\":\"OK\",\"message\":\"check the jobStatus via GET call of given jobUrl\",\"code\":200,\"jobUrl\":\"advertiser-content.inmobiapis.com/tpce/v1/upload/events/download/jobs/file?job_id=IDFA_196.csv_j50fe2942-18ca-48c4-a6b9-bdfacc50c17f\"}\n",
      "IDFA_197.csv\n",
      "{\"status\":\"OK\",\"message\":\"check the jobStatus via GET call of given jobUrl\",\"code\":200,\"jobUrl\":\"advertiser-content.inmobiapis.com/tpce/v1/upload/events/download/jobs/file?job_id=IDFA_197.csv_j5ff90f79-5cf4-4b4e-bed3-bf81aa322e1b\"}\n",
      "IDFA_198.csv\n",
      "{\"status\":\"OK\",\"message\":\"check the jobStatus via GET call of given jobUrl\",\"code\":200,\"jobUrl\":\"advertiser-content.inmobiapis.com/tpce/v1/upload/events/download/jobs/file?job_id=IDFA_198.csv_j8aaecbb4-a02c-48f1-9cf2-b5e8fcc1b9cf\"}\n",
      "IDFA_199.csv\n",
      "{\"status\":\"OK\",\"message\":\"check the jobStatus via GET call of given jobUrl\",\"code\":200,\"jobUrl\":\"advertiser-content.inmobiapis.com/tpce/v1/upload/events/download/jobs/file?job_id=IDFA_199.csv_j191a9ece-fd64-4d6b-8aa5-37faac7e7c6c\"}\n",
      "IDFA_2.csv\n",
      "{\"status\":\"OK\",\"message\":\"check the jobStatus via GET call of given jobUrl\",\"code\":200,\"jobUrl\":\"advertiser-content.inmobiapis.com/tpce/v1/upload/events/download/jobs/file?job_id=IDFA_2.csv_jc363d840-74a3-496d-9d70-4b54499e68f8\"}\n",
      "IDFA_20.csv\n",
      "{\"status\":\"OK\",\"message\":\"check the jobStatus via GET call of given jobUrl\",\"code\":200,\"jobUrl\":\"advertiser-content.inmobiapis.com/tpce/v1/upload/events/download/jobs/file?job_id=IDFA_20.csv_jcb97f00b-f9e6-49ca-99df-79d6718462ad\"}\n",
      "IDFA_200.csv\n",
      "{\"status\":\"OK\",\"message\":\"check the jobStatus via GET call of given jobUrl\",\"code\":200,\"jobUrl\":\"advertiser-content.inmobiapis.com/tpce/v1/upload/events/download/jobs/file?job_id=IDFA_200.csv_j41ff47ef-4dfe-462b-8a83-278752a84f18\"}\n",
      "IDFA_201.csv\n",
      "{\"status\":\"OK\",\"message\":\"check the jobStatus via GET call of given jobUrl\",\"code\":200,\"jobUrl\":\"advertiser-content.inmobiapis.com/tpce/v1/upload/events/download/jobs/file?job_id=IDFA_201.csv_j49436e5d-ccfe-43d6-9ef2-e99d31fa3889\"}\n",
      "IDFA_202.csv\n",
      "{\"status\":\"OK\",\"message\":\"check the jobStatus via GET call of given jobUrl\",\"code\":200,\"jobUrl\":\"advertiser-content.inmobiapis.com/tpce/v1/upload/events/download/jobs/file?job_id=IDFA_202.csv_j51782c5f-68a5-4444-9f8f-3df18420454d\"}\n",
      "IDFA_203.csv\n",
      "{\"status\":\"OK\",\"message\":\"check the jobStatus via GET call of given jobUrl\",\"code\":200,\"jobUrl\":\"advertiser-content.inmobiapis.com/tpce/v1/upload/events/download/jobs/file?job_id=IDFA_203.csv_jc2bd5ebe-5222-4541-8245-a36ae7c8eb21\"}\n",
      "IDFA_204.csv\n",
      "{\"status\":\"OK\",\"message\":\"check the jobStatus via GET call of given jobUrl\",\"code\":200,\"jobUrl\":\"advertiser-content.inmobiapis.com/tpce/v1/upload/events/download/jobs/file?job_id=IDFA_204.csv_j78e442ed-695f-4a8b-8bed-c79dfb156814\"}\n",
      "IDFA_205.csv\n",
      "{\"status\":\"OK\",\"message\":\"check the jobStatus via GET call of given jobUrl\",\"code\":200,\"jobUrl\":\"advertiser-content.inmobiapis.com/tpce/v1/upload/events/download/jobs/file?job_id=IDFA_205.csv_j31253e29-0226-4fcb-a56c-ea2ccdfca819\"}\n",
      "IDFA_206.csv\n",
      "{\"status\":\"OK\",\"message\":\"check the jobStatus via GET call of given jobUrl\",\"code\":200,\"jobUrl\":\"advertiser-content.inmobiapis.com/tpce/v1/upload/events/download/jobs/file?job_id=IDFA_206.csv_j52e4e66a-7ff7-42d1-aeac-4911f5545ffd\"}\n",
      "IDFA_207.csv\n",
      "{\"status\":\"OK\",\"message\":\"check the jobStatus via GET call of given jobUrl\",\"code\":200,\"jobUrl\":\"advertiser-content.inmobiapis.com/tpce/v1/upload/events/download/jobs/file?job_id=IDFA_207.csv_j2a802641-0b3d-4bfc-ab39-23f210cad5dc\"}\n",
      "IDFA_208.csv\n",
      "{\"status\":\"OK\",\"message\":\"check the jobStatus via GET call of given jobUrl\",\"code\":200,\"jobUrl\":\"advertiser-content.inmobiapis.com/tpce/v1/upload/events/download/jobs/file?job_id=IDFA_208.csv_ja815e8ac-351e-45f4-a367-135705ca5c64\"}\n",
      "IDFA_209.csv\n",
      "{\"status\":\"OK\",\"message\":\"check the jobStatus via GET call of given jobUrl\",\"code\":200,\"jobUrl\":\"advertiser-content.inmobiapis.com/tpce/v1/upload/events/download/jobs/file?job_id=IDFA_209.csv_j8ed76381-7698-4138-9aa6-264053b2a1c9\"}\n",
      "IDFA_21.csv\n",
      "{\"status\":\"OK\",\"message\":\"check the jobStatus via GET call of given jobUrl\",\"code\":200,\"jobUrl\":\"advertiser-content.inmobiapis.com/tpce/v1/upload/events/download/jobs/file?job_id=IDFA_21.csv_j4ddda554-4a58-4965-8a4d-f3fbb3710b6d\"}\n",
      "IDFA_210.csv\n",
      "{\"status\":\"OK\",\"message\":\"check the jobStatus via GET call of given jobUrl\",\"code\":200,\"jobUrl\":\"advertiser-content.inmobiapis.com/tpce/v1/upload/events/download/jobs/file?job_id=IDFA_210.csv_jb29bd511-763c-4e78-ae99-b2f126f11725\"}\n",
      "IDFA_211.csv\n",
      "{\"status\":\"OK\",\"message\":\"check the jobStatus via GET call of given jobUrl\",\"code\":200,\"jobUrl\":\"advertiser-content.inmobiapis.com/tpce/v1/upload/events/download/jobs/file?job_id=IDFA_211.csv_jeb47e935-781d-47a3-ad3a-9e41c21ff8a9\"}\n",
      "IDFA_212.csv\n",
      "{\"status\":\"OK\",\"message\":\"check the jobStatus via GET call of given jobUrl\",\"code\":200,\"jobUrl\":\"advertiser-content.inmobiapis.com/tpce/v1/upload/events/download/jobs/file?job_id=IDFA_212.csv_jb935bfd5-9193-474a-a507-8436b45c0aa6\"}\n",
      "IDFA_213.csv\n",
      "{\"status\":\"OK\",\"message\":\"check the jobStatus via GET call of given jobUrl\",\"code\":200,\"jobUrl\":\"advertiser-content.inmobiapis.com/tpce/v1/upload/events/download/jobs/file?job_id=IDFA_213.csv_jcfcc0b6a-967d-4daa-a330-88bcfceacabe\"}\n",
      "IDFA_214.csv\n",
      "{\"status\":\"OK\",\"message\":\"check the jobStatus via GET call of given jobUrl\",\"code\":200,\"jobUrl\":\"advertiser-content.inmobiapis.com/tpce/v1/upload/events/download/jobs/file?job_id=IDFA_214.csv_j7eed36d8-fbec-4e8e-a295-47a6e178fa60\"}\n",
      "IDFA_215.csv\n",
      "{\"status\":\"OK\",\"message\":\"check the jobStatus via GET call of given jobUrl\",\"code\":200,\"jobUrl\":\"advertiser-content.inmobiapis.com/tpce/v1/upload/events/download/jobs/file?job_id=IDFA_215.csv_j77745cd9-455b-426a-96aa-7684677865b8\"}\n",
      "IDFA_216.csv\n",
      "{\"status\":\"OK\",\"message\":\"check the jobStatus via GET call of given jobUrl\",\"code\":200,\"jobUrl\":\"advertiser-content.inmobiapis.com/tpce/v1/upload/events/download/jobs/file?job_id=IDFA_216.csv_j2feb3ff8-8d73-4cd8-90b1-410e0cb89b2c\"}\n",
      "IDFA_217.csv\n",
      "{\"status\":\"OK\",\"message\":\"check the jobStatus via GET call of given jobUrl\",\"code\":200,\"jobUrl\":\"advertiser-content.inmobiapis.com/tpce/v1/upload/events/download/jobs/file?job_id=IDFA_217.csv_je76214bf-9c2b-46e7-806b-293a6016f977\"}\n",
      "IDFA_218.csv\n",
      "{\"status\":\"OK\",\"message\":\"check the jobStatus via GET call of given jobUrl\",\"code\":200,\"jobUrl\":\"advertiser-content.inmobiapis.com/tpce/v1/upload/events/download/jobs/file?job_id=IDFA_218.csv_j70ba58b3-1443-4fb8-95a1-ac7621248d0e\"}\n",
      "IDFA_219.csv\n",
      "{\"status\":\"OK\",\"message\":\"check the jobStatus via GET call of given jobUrl\",\"code\":200,\"jobUrl\":\"advertiser-content.inmobiapis.com/tpce/v1/upload/events/download/jobs/file?job_id=IDFA_219.csv_j5a8431d9-23c3-4aab-bd8f-d4ff1288369d\"}\n",
      "IDFA_22.csv\n",
      "{\"status\":\"OK\",\"message\":\"check the jobStatus via GET call of given jobUrl\",\"code\":200,\"jobUrl\":\"advertiser-content.inmobiapis.com/tpce/v1/upload/events/download/jobs/file?job_id=IDFA_22.csv_j9b6aafc3-4edc-43d5-ac6c-ef560408320a\"}\n",
      "IDFA_220.csv\n",
      "{\"status\":\"OK\",\"message\":\"check the jobStatus via GET call of given jobUrl\",\"code\":200,\"jobUrl\":\"advertiser-content.inmobiapis.com/tpce/v1/upload/events/download/jobs/file?job_id=IDFA_220.csv_jbb6b85e9-cb32-4fd6-a2c5-a8f301778a84\"}\n",
      "IDFA_221.csv\n",
      "{\"status\":\"OK\",\"message\":\"check the jobStatus via GET call of given jobUrl\",\"code\":200,\"jobUrl\":\"advertiser-content.inmobiapis.com/tpce/v1/upload/events/download/jobs/file?job_id=IDFA_221.csv_j09c6cac6-07ec-46ae-bdc5-f2a125189924\"}\n",
      "IDFA_222.csv\n",
      "{\"status\":\"OK\",\"message\":\"check the jobStatus via GET call of given jobUrl\",\"code\":200,\"jobUrl\":\"advertiser-content.inmobiapis.com/tpce/v1/upload/events/download/jobs/file?job_id=IDFA_222.csv_j3a8d9872-5c76-436f-8d1a-9e41e7bc887a\"}\n",
      "IDFA_223.csv\n",
      "{\"status\":\"OK\",\"message\":\"check the jobStatus via GET call of given jobUrl\",\"code\":200,\"jobUrl\":\"advertiser-content.inmobiapis.com/tpce/v1/upload/events/download/jobs/file?job_id=IDFA_223.csv_j42a8844b-206d-4b99-a3f8-21d7670cf34d\"}\n",
      "IDFA_224.csv\n",
      "{\"status\":\"OK\",\"message\":\"check the jobStatus via GET call of given jobUrl\",\"code\":200,\"jobUrl\":\"advertiser-content.inmobiapis.com/tpce/v1/upload/events/download/jobs/file?job_id=IDFA_224.csv_j0bbd3034-b866-452a-ae26-a76a842a7929\"}\n",
      "IDFA_225.csv\n",
      "{\"status\":\"OK\",\"message\":\"check the jobStatus via GET call of given jobUrl\",\"code\":200,\"jobUrl\":\"advertiser-content.inmobiapis.com/tpce/v1/upload/events/download/jobs/file?job_id=IDFA_225.csv_j81f99845-0299-4304-9c9f-7823ee9dba0f\"}\n",
      "IDFA_226.csv\n",
      "{\"status\":\"OK\",\"message\":\"check the jobStatus via GET call of given jobUrl\",\"code\":200,\"jobUrl\":\"advertiser-content.inmobiapis.com/tpce/v1/upload/events/download/jobs/file?job_id=IDFA_226.csv_je916ca7b-5443-4b9f-980c-b7480a4deaf6\"}\n",
      "IDFA_227.csv\n",
      "{\"status\":\"OK\",\"message\":\"check the jobStatus via GET call of given jobUrl\",\"code\":200,\"jobUrl\":\"advertiser-content.inmobiapis.com/tpce/v1/upload/events/download/jobs/file?job_id=IDFA_227.csv_jefb85b06-ea80-4d3b-bdcc-d54ee67960a7\"}\n",
      "IDFA_228.csv\n",
      "{\"status\":\"OK\",\"message\":\"check the jobStatus via GET call of given jobUrl\",\"code\":200,\"jobUrl\":\"advertiser-content.inmobiapis.com/tpce/v1/upload/events/download/jobs/file?job_id=IDFA_228.csv_jddba9ead-5134-4fd1-85dc-d273073982ef\"}\n",
      "IDFA_229.csv\n",
      "{\"status\":\"OK\",\"message\":\"check the jobStatus via GET call of given jobUrl\",\"code\":200,\"jobUrl\":\"advertiser-content.inmobiapis.com/tpce/v1/upload/events/download/jobs/file?job_id=IDFA_229.csv_jb18b2923-0904-4fa1-b364-a430421940be\"}\n",
      "IDFA_23.csv\n",
      "{\"status\":\"OK\",\"message\":\"check the jobStatus via GET call of given jobUrl\",\"code\":200,\"jobUrl\":\"advertiser-content.inmobiapis.com/tpce/v1/upload/events/download/jobs/file?job_id=IDFA_23.csv_j5c5d75e6-93eb-47ac-9fcf-64f5c37559e0\"}\n",
      "IDFA_230.csv\n",
      "{\"status\":\"OK\",\"message\":\"check the jobStatus via GET call of given jobUrl\",\"code\":200,\"jobUrl\":\"advertiser-content.inmobiapis.com/tpce/v1/upload/events/download/jobs/file?job_id=IDFA_230.csv_ja2284f7b-2b51-446f-87dc-e56c98dad289\"}\n",
      "IDFA_231.csv\n",
      "{\"status\":\"OK\",\"message\":\"check the jobStatus via GET call of given jobUrl\",\"code\":200,\"jobUrl\":\"advertiser-content.inmobiapis.com/tpce/v1/upload/events/download/jobs/file?job_id=IDFA_231.csv_j090d14e2-95e0-4a68-b8cd-0ccedfe42ec5\"}\n",
      "IDFA_232.csv\n",
      "{\"status\":\"OK\",\"message\":\"check the jobStatus via GET call of given jobUrl\",\"code\":200,\"jobUrl\":\"advertiser-content.inmobiapis.com/tpce/v1/upload/events/download/jobs/file?job_id=IDFA_232.csv_j4a1b4440-94e1-4392-8392-b0298024f1a2\"}\n",
      "IDFA_233.csv\n",
      "{\"status\":\"OK\",\"message\":\"check the jobStatus via GET call of given jobUrl\",\"code\":200,\"jobUrl\":\"advertiser-content.inmobiapis.com/tpce/v1/upload/events/download/jobs/file?job_id=IDFA_233.csv_j0ff32e83-1155-432d-aaf0-a81628633758\"}\n",
      "IDFA_234.csv\n",
      "{\"status\":\"OK\",\"message\":\"check the jobStatus via GET call of given jobUrl\",\"code\":200,\"jobUrl\":\"advertiser-content.inmobiapis.com/tpce/v1/upload/events/download/jobs/file?job_id=IDFA_234.csv_j969a8fc5-cded-42ef-b398-0e3052499970\"}\n",
      "IDFA_235.csv\n",
      "{\"status\":\"OK\",\"message\":\"check the jobStatus via GET call of given jobUrl\",\"code\":200,\"jobUrl\":\"advertiser-content.inmobiapis.com/tpce/v1/upload/events/download/jobs/file?job_id=IDFA_235.csv_jccd2f850-4ffc-4cad-88b9-de897a57cc5a\"}\n",
      "IDFA_236.csv\n",
      "{\"status\":\"OK\",\"message\":\"check the jobStatus via GET call of given jobUrl\",\"code\":200,\"jobUrl\":\"advertiser-content.inmobiapis.com/tpce/v1/upload/events/download/jobs/file?job_id=IDFA_236.csv_ja1e8ddb0-8212-4b7c-b01d-fd43a1714549\"}\n",
      "IDFA_237.csv\n",
      "{\"status\":\"OK\",\"message\":\"check the jobStatus via GET call of given jobUrl\",\"code\":200,\"jobUrl\":\"advertiser-content.inmobiapis.com/tpce/v1/upload/events/download/jobs/file?job_id=IDFA_237.csv_je79e2fc0-a648-4790-84bb-b8b19471e452\"}\n",
      "IDFA_238.csv\n",
      "{\"status\":\"OK\",\"message\":\"check the jobStatus via GET call of given jobUrl\",\"code\":200,\"jobUrl\":\"advertiser-content.inmobiapis.com/tpce/v1/upload/events/download/jobs/file?job_id=IDFA_238.csv_jad0b2027-faba-492f-a694-f5e4ae8888e1\"}\n",
      "IDFA_239.csv\n",
      "{\"status\":\"OK\",\"message\":\"check the jobStatus via GET call of given jobUrl\",\"code\":200,\"jobUrl\":\"advertiser-content.inmobiapis.com/tpce/v1/upload/events/download/jobs/file?job_id=IDFA_239.csv_j1b741e49-f65a-496d-8824-f315d92c23b6\"}\n",
      "IDFA_24.csv\n",
      "{\"status\":\"OK\",\"message\":\"check the jobStatus via GET call of given jobUrl\",\"code\":200,\"jobUrl\":\"advertiser-content.inmobiapis.com/tpce/v1/upload/events/download/jobs/file?job_id=IDFA_24.csv_jf119b33f-90ef-4c30-9c3d-3f6e939f1971\"}\n",
      "IDFA_240.csv\n",
      "{\"status\":\"OK\",\"message\":\"check the jobStatus via GET call of given jobUrl\",\"code\":200,\"jobUrl\":\"advertiser-content.inmobiapis.com/tpce/v1/upload/events/download/jobs/file?job_id=IDFA_240.csv_jb7f27fa7-439e-4c31-b046-aee0be05e7fb\"}\n",
      "IDFA_241.csv\n",
      "{\"status\":\"OK\",\"message\":\"check the jobStatus via GET call of given jobUrl\",\"code\":200,\"jobUrl\":\"advertiser-content.inmobiapis.com/tpce/v1/upload/events/download/jobs/file?job_id=IDFA_241.csv_j8f7ccc39-2de9-419c-9b63-f5284dcde450\"}\n",
      "IDFA_25.csv\n",
      "{\"status\":\"OK\",\"message\":\"check the jobStatus via GET call of given jobUrl\",\"code\":200,\"jobUrl\":\"advertiser-content.inmobiapis.com/tpce/v1/upload/events/download/jobs/file?job_id=IDFA_25.csv_j9e196351-f31c-446a-bd15-2b2ec20bc033\"}\n",
      "IDFA_26.csv\n",
      "{\"status\":\"OK\",\"message\":\"check the jobStatus via GET call of given jobUrl\",\"code\":200,\"jobUrl\":\"advertiser-content.inmobiapis.com/tpce/v1/upload/events/download/jobs/file?job_id=IDFA_26.csv_j8f67113d-9fca-410c-8e34-0424d3e67e65\"}\n",
      "IDFA_27.csv\n",
      "{\"status\":\"OK\",\"message\":\"check the jobStatus via GET call of given jobUrl\",\"code\":200,\"jobUrl\":\"advertiser-content.inmobiapis.com/tpce/v1/upload/events/download/jobs/file?job_id=IDFA_27.csv_j6b32f1d1-dbb0-40e1-b792-08a09cc66dd9\"}\n",
      "IDFA_28.csv\n",
      "{\"status\":\"OK\",\"message\":\"check the jobStatus via GET call of given jobUrl\",\"code\":200,\"jobUrl\":\"advertiser-content.inmobiapis.com/tpce/v1/upload/events/download/jobs/file?job_id=IDFA_28.csv_j4e240350-09d2-492f-b740-d6331b6e66df\"}\n",
      "IDFA_29.csv\n",
      "{\"status\":\"OK\",\"message\":\"check the jobStatus via GET call of given jobUrl\",\"code\":200,\"jobUrl\":\"advertiser-content.inmobiapis.com/tpce/v1/upload/events/download/jobs/file?job_id=IDFA_29.csv_j33364f54-3f09-4922-b5fd-88e2e968e7e8\"}\n",
      "IDFA_3.csv\n",
      "{\"status\":\"OK\",\"message\":\"check the jobStatus via GET call of given jobUrl\",\"code\":200,\"jobUrl\":\"advertiser-content.inmobiapis.com/tpce/v1/upload/events/download/jobs/file?job_id=IDFA_3.csv_j3adb52f1-e428-42c3-a929-fe4926278421\"}\n",
      "IDFA_30.csv\n",
      "{\"status\":\"OK\",\"message\":\"check the jobStatus via GET call of given jobUrl\",\"code\":200,\"jobUrl\":\"advertiser-content.inmobiapis.com/tpce/v1/upload/events/download/jobs/file?job_id=IDFA_30.csv_je9cd0a3f-c53e-4ea4-aef8-7246da09b75b\"}\n",
      "IDFA_31.csv\n",
      "{\"status\":\"OK\",\"message\":\"check the jobStatus via GET call of given jobUrl\",\"code\":200,\"jobUrl\":\"advertiser-content.inmobiapis.com/tpce/v1/upload/events/download/jobs/file?job_id=IDFA_31.csv_j449979db-f324-41ba-b8f8-5bd471a4d8cf\"}\n",
      "IDFA_32.csv\n",
      "{\"status\":\"OK\",\"message\":\"check the jobStatus via GET call of given jobUrl\",\"code\":200,\"jobUrl\":\"advertiser-content.inmobiapis.com/tpce/v1/upload/events/download/jobs/file?job_id=IDFA_32.csv_j95ac5132-c99d-4c3a-a735-cfa476e7482c\"}\n",
      "IDFA_33.csv\n",
      "{\"status\":\"OK\",\"message\":\"check the jobStatus via GET call of given jobUrl\",\"code\":200,\"jobUrl\":\"advertiser-content.inmobiapis.com/tpce/v1/upload/events/download/jobs/file?job_id=IDFA_33.csv_j0c4b43a5-64a6-4ac6-b705-e17ea7070965\"}\n",
      "IDFA_34.csv\n",
      "{\"status\":\"OK\",\"message\":\"check the jobStatus via GET call of given jobUrl\",\"code\":200,\"jobUrl\":\"advertiser-content.inmobiapis.com/tpce/v1/upload/events/download/jobs/file?job_id=IDFA_34.csv_jd435fb50-19ec-4eca-89fa-9d2dadd78c20\"}\n",
      "IDFA_35.csv\n",
      "{\"status\":\"OK\",\"message\":\"check the jobStatus via GET call of given jobUrl\",\"code\":200,\"jobUrl\":\"advertiser-content.inmobiapis.com/tpce/v1/upload/events/download/jobs/file?job_id=IDFA_35.csv_jfb27b5d1-95e5-40c7-aa73-9e337d0d9936\"}\n",
      "IDFA_36.csv\n",
      "{\"status\":\"OK\",\"message\":\"check the jobStatus via GET call of given jobUrl\",\"code\":200,\"jobUrl\":\"advertiser-content.inmobiapis.com/tpce/v1/upload/events/download/jobs/file?job_id=IDFA_36.csv_j915e8dc4-d30f-4cde-8a49-4af0555fa6c0\"}\n",
      "IDFA_37.csv\n",
      "{\"status\":\"OK\",\"message\":\"check the jobStatus via GET call of given jobUrl\",\"code\":200,\"jobUrl\":\"advertiser-content.inmobiapis.com/tpce/v1/upload/events/download/jobs/file?job_id=IDFA_37.csv_jeb044565-0f13-49f3-a4af-b66b43ee331c\"}\n",
      "IDFA_38.csv\n",
      "{\"status\":\"OK\",\"message\":\"check the jobStatus via GET call of given jobUrl\",\"code\":200,\"jobUrl\":\"advertiser-content.inmobiapis.com/tpce/v1/upload/events/download/jobs/file?job_id=IDFA_38.csv_j613d1713-a4d5-4728-a716-3bb890d73b6e\"}\n",
      "IDFA_39.csv\n",
      "{\"status\":\"OK\",\"message\":\"check the jobStatus via GET call of given jobUrl\",\"code\":200,\"jobUrl\":\"advertiser-content.inmobiapis.com/tpce/v1/upload/events/download/jobs/file?job_id=IDFA_39.csv_j25fae46f-268d-4c9d-af02-4d898a49d012\"}\n",
      "IDFA_4.csv\n",
      "{\"status\":\"OK\",\"message\":\"check the jobStatus via GET call of given jobUrl\",\"code\":200,\"jobUrl\":\"advertiser-content.inmobiapis.com/tpce/v1/upload/events/download/jobs/file?job_id=IDFA_4.csv_j323e8137-3b28-4b83-8577-1b578220f294\"}\n",
      "IDFA_40.csv\n",
      "{\"status\":\"OK\",\"message\":\"check the jobStatus via GET call of given jobUrl\",\"code\":200,\"jobUrl\":\"advertiser-content.inmobiapis.com/tpce/v1/upload/events/download/jobs/file?job_id=IDFA_40.csv_je2b52dfa-8f43-4644-bf3a-d4c610071990\"}\n",
      "IDFA_41.csv\n",
      "{\"status\":\"OK\",\"message\":\"check the jobStatus via GET call of given jobUrl\",\"code\":200,\"jobUrl\":\"advertiser-content.inmobiapis.com/tpce/v1/upload/events/download/jobs/file?job_id=IDFA_41.csv_ja01a34d3-c9be-4cae-9ace-25f51f193ff7\"}\n",
      "IDFA_42.csv\n",
      "{\"status\":\"OK\",\"message\":\"check the jobStatus via GET call of given jobUrl\",\"code\":200,\"jobUrl\":\"advertiser-content.inmobiapis.com/tpce/v1/upload/events/download/jobs/file?job_id=IDFA_42.csv_j1e537e7d-3ca4-49a8-90b0-a9754b82973a\"}\n",
      "IDFA_43.csv\n",
      "{\"status\":\"OK\",\"message\":\"check the jobStatus via GET call of given jobUrl\",\"code\":200,\"jobUrl\":\"advertiser-content.inmobiapis.com/tpce/v1/upload/events/download/jobs/file?job_id=IDFA_43.csv_jda3bd0c7-6f43-4e99-9bd2-0f29511800f7\"}\n",
      "IDFA_44.csv\n",
      "{\"status\":\"OK\",\"message\":\"check the jobStatus via GET call of given jobUrl\",\"code\":200,\"jobUrl\":\"advertiser-content.inmobiapis.com/tpce/v1/upload/events/download/jobs/file?job_id=IDFA_44.csv_j445a658a-1d64-45f7-ab7c-eed94de41a8f\"}\n",
      "IDFA_45.csv\n",
      "{\"status\":\"OK\",\"message\":\"check the jobStatus via GET call of given jobUrl\",\"code\":200,\"jobUrl\":\"advertiser-content.inmobiapis.com/tpce/v1/upload/events/download/jobs/file?job_id=IDFA_45.csv_j2136300e-ce0b-4349-a045-9a02da7305ae\"}\n",
      "IDFA_46.csv\n",
      "{\"status\":\"OK\",\"message\":\"check the jobStatus via GET call of given jobUrl\",\"code\":200,\"jobUrl\":\"advertiser-content.inmobiapis.com/tpce/v1/upload/events/download/jobs/file?job_id=IDFA_46.csv_jcb329478-78b0-4e56-beb9-f318224c06cb\"}\n",
      "IDFA_47.csv\n",
      "{\"status\":\"OK\",\"message\":\"check the jobStatus via GET call of given jobUrl\",\"code\":200,\"jobUrl\":\"advertiser-content.inmobiapis.com/tpce/v1/upload/events/download/jobs/file?job_id=IDFA_47.csv_j5b4605c5-4b15-4245-8958-38b37a91e477\"}\n",
      "IDFA_48.csv\n",
      "{\"status\":\"OK\",\"message\":\"check the jobStatus via GET call of given jobUrl\",\"code\":200,\"jobUrl\":\"advertiser-content.inmobiapis.com/tpce/v1/upload/events/download/jobs/file?job_id=IDFA_48.csv_jf3511600-d123-4522-aeb3-f65daaa8dd12\"}\n",
      "IDFA_49.csv\n",
      "{\"status\":\"OK\",\"message\":\"check the jobStatus via GET call of given jobUrl\",\"code\":200,\"jobUrl\":\"advertiser-content.inmobiapis.com/tpce/v1/upload/events/download/jobs/file?job_id=IDFA_49.csv_j79c196b6-6dd0-4daa-8acd-fb58435a68a2\"}\n",
      "IDFA_5.csv\n",
      "{\"status\":\"OK\",\"message\":\"check the jobStatus via GET call of given jobUrl\",\"code\":200,\"jobUrl\":\"advertiser-content.inmobiapis.com/tpce/v1/upload/events/download/jobs/file?job_id=IDFA_5.csv_jba58d9cf-acd8-40df-a4a4-0be5ef048e6a\"}\n",
      "IDFA_50.csv\n",
      "{\"status\":\"OK\",\"message\":\"check the jobStatus via GET call of given jobUrl\",\"code\":200,\"jobUrl\":\"advertiser-content.inmobiapis.com/tpce/v1/upload/events/download/jobs/file?job_id=IDFA_50.csv_j838fe119-635e-4332-804d-1daf9f202a13\"}\n",
      "IDFA_51.csv\n",
      "{\"status\":\"OK\",\"message\":\"check the jobStatus via GET call of given jobUrl\",\"code\":200,\"jobUrl\":\"advertiser-content.inmobiapis.com/tpce/v1/upload/events/download/jobs/file?job_id=IDFA_51.csv_j90a7480d-3a0a-416e-897e-09343a3d87a8\"}\n",
      "IDFA_52.csv\n",
      "{\"status\":\"OK\",\"message\":\"check the jobStatus via GET call of given jobUrl\",\"code\":200,\"jobUrl\":\"advertiser-content.inmobiapis.com/tpce/v1/upload/events/download/jobs/file?job_id=IDFA_52.csv_j8299dfc7-541f-4c54-b43c-bcc73bff6f16\"}\n",
      "IDFA_53.csv\n",
      "{\"status\":\"OK\",\"message\":\"check the jobStatus via GET call of given jobUrl\",\"code\":200,\"jobUrl\":\"advertiser-content.inmobiapis.com/tpce/v1/upload/events/download/jobs/file?job_id=IDFA_53.csv_j36ccecee-ee09-4e2b-a265-9154c8d64772\"}\n",
      "IDFA_54.csv\n",
      "{\"status\":\"OK\",\"message\":\"check the jobStatus via GET call of given jobUrl\",\"code\":200,\"jobUrl\":\"advertiser-content.inmobiapis.com/tpce/v1/upload/events/download/jobs/file?job_id=IDFA_54.csv_j0c1a0e03-5c23-4827-9dda-c8d5abcb8755\"}\n",
      "IDFA_55.csv\n",
      "{\"status\":\"OK\",\"message\":\"check the jobStatus via GET call of given jobUrl\",\"code\":200,\"jobUrl\":\"advertiser-content.inmobiapis.com/tpce/v1/upload/events/download/jobs/file?job_id=IDFA_55.csv_j66b53e09-cae2-4564-8a15-4ba0bfb99288\"}\n",
      "IDFA_56.csv\n",
      "{\"status\":\"OK\",\"message\":\"check the jobStatus via GET call of given jobUrl\",\"code\":200,\"jobUrl\":\"advertiser-content.inmobiapis.com/tpce/v1/upload/events/download/jobs/file?job_id=IDFA_56.csv_jc79cca3f-1533-4ed9-a124-d20a747fccfb\"}\n",
      "IDFA_57.csv\n",
      "{\"status\":\"OK\",\"message\":\"check the jobStatus via GET call of given jobUrl\",\"code\":200,\"jobUrl\":\"advertiser-content.inmobiapis.com/tpce/v1/upload/events/download/jobs/file?job_id=IDFA_57.csv_jf132c41e-6ef6-4cc8-b2af-838736cd3ea5\"}\n",
      "IDFA_58.csv\n",
      "{\"status\":\"OK\",\"message\":\"check the jobStatus via GET call of given jobUrl\",\"code\":200,\"jobUrl\":\"advertiser-content.inmobiapis.com/tpce/v1/upload/events/download/jobs/file?job_id=IDFA_58.csv_j98614633-b8f2-420a-bbb4-b06641f55ac2\"}\n",
      "IDFA_59.csv\n",
      "{\"status\":\"OK\",\"message\":\"check the jobStatus via GET call of given jobUrl\",\"code\":200,\"jobUrl\":\"advertiser-content.inmobiapis.com/tpce/v1/upload/events/download/jobs/file?job_id=IDFA_59.csv_jcf365f12-1e0f-40cd-b67f-c90c6ffa8ae6\"}\n",
      "IDFA_6.csv\n",
      "{\"status\":\"OK\",\"message\":\"check the jobStatus via GET call of given jobUrl\",\"code\":200,\"jobUrl\":\"advertiser-content.inmobiapis.com/tpce/v1/upload/events/download/jobs/file?job_id=IDFA_6.csv_ja9347f58-f4ea-4d29-a5e4-8258df20c477\"}\n",
      "IDFA_60.csv\n",
      "{\"status\":\"OK\",\"message\":\"check the jobStatus via GET call of given jobUrl\",\"code\":200,\"jobUrl\":\"advertiser-content.inmobiapis.com/tpce/v1/upload/events/download/jobs/file?job_id=IDFA_60.csv_jb7e68d11-15e8-4ec4-9abb-e312de2af3b8\"}\n",
      "IDFA_61.csv\n",
      "{\"status\":\"OK\",\"message\":\"check the jobStatus via GET call of given jobUrl\",\"code\":200,\"jobUrl\":\"advertiser-content.inmobiapis.com/tpce/v1/upload/events/download/jobs/file?job_id=IDFA_61.csv_jcb02a997-4629-475b-acba-6c435cd5194f\"}\n",
      "IDFA_62.csv\n",
      "{\"status\":\"OK\",\"message\":\"check the jobStatus via GET call of given jobUrl\",\"code\":200,\"jobUrl\":\"advertiser-content.inmobiapis.com/tpce/v1/upload/events/download/jobs/file?job_id=IDFA_62.csv_jac491a6a-1cc4-4340-89b8-140f8dd01bb4\"}\n",
      "IDFA_63.csv\n",
      "{\"status\":\"OK\",\"message\":\"check the jobStatus via GET call of given jobUrl\",\"code\":200,\"jobUrl\":\"advertiser-content.inmobiapis.com/tpce/v1/upload/events/download/jobs/file?job_id=IDFA_63.csv_j66e94b35-8387-432a-a729-8b4044f52b39\"}\n",
      "IDFA_64.csv\n",
      "{\"status\":\"OK\",\"message\":\"check the jobStatus via GET call of given jobUrl\",\"code\":200,\"jobUrl\":\"advertiser-content.inmobiapis.com/tpce/v1/upload/events/download/jobs/file?job_id=IDFA_64.csv_j4b73ccab-3f6a-44b7-97c6-7f2981692c5f\"}\n",
      "IDFA_65.csv\n",
      "{\"status\":\"OK\",\"message\":\"check the jobStatus via GET call of given jobUrl\",\"code\":200,\"jobUrl\":\"advertiser-content.inmobiapis.com/tpce/v1/upload/events/download/jobs/file?job_id=IDFA_65.csv_jdf204fbb-87a6-4b89-9e7a-4ddefb2a936e\"}\n",
      "IDFA_66.csv\n",
      "{\"status\":\"OK\",\"message\":\"check the jobStatus via GET call of given jobUrl\",\"code\":200,\"jobUrl\":\"advertiser-content.inmobiapis.com/tpce/v1/upload/events/download/jobs/file?job_id=IDFA_66.csv_j8d38df5e-854a-4d7a-a0f5-0a4cbabe9812\"}\n",
      "IDFA_67.csv\n",
      "{\"status\":\"OK\",\"message\":\"check the jobStatus via GET call of given jobUrl\",\"code\":200,\"jobUrl\":\"advertiser-content.inmobiapis.com/tpce/v1/upload/events/download/jobs/file?job_id=IDFA_67.csv_j53108a6a-639c-4c42-8cba-324c56444bba\"}\n",
      "IDFA_68.csv\n",
      "{\"status\":\"OK\",\"message\":\"check the jobStatus via GET call of given jobUrl\",\"code\":200,\"jobUrl\":\"advertiser-content.inmobiapis.com/tpce/v1/upload/events/download/jobs/file?job_id=IDFA_68.csv_j6a955357-04ff-45df-aae8-a2e8dd87966d\"}\n",
      "IDFA_69.csv\n",
      "{\"status\":\"OK\",\"message\":\"check the jobStatus via GET call of given jobUrl\",\"code\":200,\"jobUrl\":\"advertiser-content.inmobiapis.com/tpce/v1/upload/events/download/jobs/file?job_id=IDFA_69.csv_jb0862961-d30f-411d-ae5a-30b52460ffee\"}\n",
      "IDFA_7.csv\n",
      "{\"status\":\"OK\",\"message\":\"check the jobStatus via GET call of given jobUrl\",\"code\":200,\"jobUrl\":\"advertiser-content.inmobiapis.com/tpce/v1/upload/events/download/jobs/file?job_id=IDFA_7.csv_j7c26282c-946d-4a8e-b147-c59216c40d33\"}\n",
      "IDFA_70.csv\n",
      "{\"status\":\"OK\",\"message\":\"check the jobStatus via GET call of given jobUrl\",\"code\":200,\"jobUrl\":\"advertiser-content.inmobiapis.com/tpce/v1/upload/events/download/jobs/file?job_id=IDFA_70.csv_j1c73046b-e737-4e3d-8fed-ef491a4f243f\"}\n",
      "IDFA_71.csv\n",
      "{\"status\":\"OK\",\"message\":\"check the jobStatus via GET call of given jobUrl\",\"code\":200,\"jobUrl\":\"advertiser-content.inmobiapis.com/tpce/v1/upload/events/download/jobs/file?job_id=IDFA_71.csv_j08f6df2c-1131-43d4-a03e-71f86e5aa9ce\"}\n",
      "IDFA_72.csv\n",
      "{\"status\":\"OK\",\"message\":\"check the jobStatus via GET call of given jobUrl\",\"code\":200,\"jobUrl\":\"advertiser-content.inmobiapis.com/tpce/v1/upload/events/download/jobs/file?job_id=IDFA_72.csv_j0db7f978-e351-4189-a8fc-1fff7f858661\"}\n",
      "IDFA_73.csv\n",
      "{\"status\":\"OK\",\"message\":\"check the jobStatus via GET call of given jobUrl\",\"code\":200,\"jobUrl\":\"advertiser-content.inmobiapis.com/tpce/v1/upload/events/download/jobs/file?job_id=IDFA_73.csv_j53b9f1a9-0c1d-43aa-a439-3f0d6fab1ef2\"}\n",
      "IDFA_74.csv\n",
      "{\"status\":\"OK\",\"message\":\"check the jobStatus via GET call of given jobUrl\",\"code\":200,\"jobUrl\":\"advertiser-content.inmobiapis.com/tpce/v1/upload/events/download/jobs/file?job_id=IDFA_74.csv_j4b85983e-af24-4857-9889-7c56a9544647\"}\n",
      "IDFA_75.csv\n",
      "{\"status\":\"OK\",\"message\":\"check the jobStatus via GET call of given jobUrl\",\"code\":200,\"jobUrl\":\"advertiser-content.inmobiapis.com/tpce/v1/upload/events/download/jobs/file?job_id=IDFA_75.csv_j42c79457-60ea-44c4-af13-a3183c784ffd\"}\n",
      "IDFA_76.csv\n",
      "{\"status\":\"OK\",\"message\":\"check the jobStatus via GET call of given jobUrl\",\"code\":200,\"jobUrl\":\"advertiser-content.inmobiapis.com/tpce/v1/upload/events/download/jobs/file?job_id=IDFA_76.csv_jfce02b69-aae8-429f-a7aa-ebb127b21537\"}\n",
      "IDFA_77.csv\n",
      "{\"status\":\"OK\",\"message\":\"check the jobStatus via GET call of given jobUrl\",\"code\":200,\"jobUrl\":\"advertiser-content.inmobiapis.com/tpce/v1/upload/events/download/jobs/file?job_id=IDFA_77.csv_jebd22b9a-5892-4e29-9406-da5fde230193\"}\n",
      "IDFA_78.csv\n",
      "{\"status\":\"OK\",\"message\":\"check the jobStatus via GET call of given jobUrl\",\"code\":200,\"jobUrl\":\"advertiser-content.inmobiapis.com/tpce/v1/upload/events/download/jobs/file?job_id=IDFA_78.csv_j16c002b6-5a93-4fb3-b68e-b26b54440a0c\"}\n",
      "IDFA_79.csv\n",
      "{\"status\":\"OK\",\"message\":\"check the jobStatus via GET call of given jobUrl\",\"code\":200,\"jobUrl\":\"advertiser-content.inmobiapis.com/tpce/v1/upload/events/download/jobs/file?job_id=IDFA_79.csv_j6069886c-c949-456a-b349-28c553c65307\"}\n",
      "IDFA_8.csv\n",
      "{\"status\":\"OK\",\"message\":\"check the jobStatus via GET call of given jobUrl\",\"code\":200,\"jobUrl\":\"advertiser-content.inmobiapis.com/tpce/v1/upload/events/download/jobs/file?job_id=IDFA_8.csv_j5a11a2e0-dc00-4753-bd43-7becd6a35327\"}\n",
      "IDFA_80.csv\n",
      "{\"status\":\"OK\",\"message\":\"check the jobStatus via GET call of given jobUrl\",\"code\":200,\"jobUrl\":\"advertiser-content.inmobiapis.com/tpce/v1/upload/events/download/jobs/file?job_id=IDFA_80.csv_j031e4252-a380-4269-ad36-094087bb477f\"}\n",
      "IDFA_81.csv\n",
      "{\"status\":\"OK\",\"message\":\"check the jobStatus via GET call of given jobUrl\",\"code\":200,\"jobUrl\":\"advertiser-content.inmobiapis.com/tpce/v1/upload/events/download/jobs/file?job_id=IDFA_81.csv_j7d7d4949-2ff1-4a19-a820-f6a411e97ab0\"}\n",
      "IDFA_82.csv\n",
      "{\"status\":\"OK\",\"message\":\"check the jobStatus via GET call of given jobUrl\",\"code\":200,\"jobUrl\":\"advertiser-content.inmobiapis.com/tpce/v1/upload/events/download/jobs/file?job_id=IDFA_82.csv_j9b9ac30d-2177-4860-a5d2-9a61affd2b07\"}\n",
      "IDFA_83.csv\n",
      "{\"status\":\"OK\",\"message\":\"check the jobStatus via GET call of given jobUrl\",\"code\":200,\"jobUrl\":\"advertiser-content.inmobiapis.com/tpce/v1/upload/events/download/jobs/file?job_id=IDFA_83.csv_ja2a1ca7a-0020-4135-a7db-16cfeaeb9b1a\"}\n",
      "IDFA_84.csv\n",
      "{\"status\":\"OK\",\"message\":\"check the jobStatus via GET call of given jobUrl\",\"code\":200,\"jobUrl\":\"advertiser-content.inmobiapis.com/tpce/v1/upload/events/download/jobs/file?job_id=IDFA_84.csv_jb323f836-950a-49c2-ab9e-fc130b5427fc\"}\n",
      "IDFA_85.csv\n",
      "{\"status\":\"OK\",\"message\":\"check the jobStatus via GET call of given jobUrl\",\"code\":200,\"jobUrl\":\"advertiser-content.inmobiapis.com/tpce/v1/upload/events/download/jobs/file?job_id=IDFA_85.csv_j695758ec-06bc-4e7a-862b-01b5dd8423d6\"}\n",
      "IDFA_86.csv\n",
      "{\"status\":\"OK\",\"message\":\"check the jobStatus via GET call of given jobUrl\",\"code\":200,\"jobUrl\":\"advertiser-content.inmobiapis.com/tpce/v1/upload/events/download/jobs/file?job_id=IDFA_86.csv_j1eafbb5d-a49e-4cc7-8d29-95cf0909b42c\"}\n",
      "IDFA_87.csv\n",
      "{\"status\":\"OK\",\"message\":\"check the jobStatus via GET call of given jobUrl\",\"code\":200,\"jobUrl\":\"advertiser-content.inmobiapis.com/tpce/v1/upload/events/download/jobs/file?job_id=IDFA_87.csv_j62ee8a43-7f15-4a16-b003-5e3392a498a7\"}\n",
      "IDFA_88.csv\n",
      "{\"status\":\"OK\",\"message\":\"check the jobStatus via GET call of given jobUrl\",\"code\":200,\"jobUrl\":\"advertiser-content.inmobiapis.com/tpce/v1/upload/events/download/jobs/file?job_id=IDFA_88.csv_jae3eb5a0-a34f-4ba7-939d-0c5fb6f17b80\"}\n",
      "IDFA_89.csv\n",
      "{\"status\":\"OK\",\"message\":\"check the jobStatus via GET call of given jobUrl\",\"code\":200,\"jobUrl\":\"advertiser-content.inmobiapis.com/tpce/v1/upload/events/download/jobs/file?job_id=IDFA_89.csv_j26978f16-76fe-4bb4-ae62-6f216a988df5\"}\n",
      "IDFA_9.csv\n",
      "{\"status\":\"OK\",\"message\":\"check the jobStatus via GET call of given jobUrl\",\"code\":200,\"jobUrl\":\"advertiser-content.inmobiapis.com/tpce/v1/upload/events/download/jobs/file?job_id=IDFA_9.csv_jc07c1b0d-e9d2-4a5c-82d1-a532478b8356\"}\n",
      "IDFA_90.csv\n",
      "{\"status\":\"OK\",\"message\":\"check the jobStatus via GET call of given jobUrl\",\"code\":200,\"jobUrl\":\"advertiser-content.inmobiapis.com/tpce/v1/upload/events/download/jobs/file?job_id=IDFA_90.csv_je25d8906-d5e6-4cb0-8819-b100118f4200\"}\n",
      "IDFA_91.csv\n",
      "{\"status\":\"OK\",\"message\":\"check the jobStatus via GET call of given jobUrl\",\"code\":200,\"jobUrl\":\"advertiser-content.inmobiapis.com/tpce/v1/upload/events/download/jobs/file?job_id=IDFA_91.csv_j8c83b2c2-9405-4608-b8d2-f2d2892ceb29\"}\n",
      "IDFA_92.csv\n",
      "{\"status\":\"OK\",\"message\":\"check the jobStatus via GET call of given jobUrl\",\"code\":200,\"jobUrl\":\"advertiser-content.inmobiapis.com/tpce/v1/upload/events/download/jobs/file?job_id=IDFA_92.csv_jf339cb64-ff30-4770-beff-bf62ea494cc8\"}\n",
      "IDFA_93.csv\n",
      "{\"status\":\"OK\",\"message\":\"check the jobStatus via GET call of given jobUrl\",\"code\":200,\"jobUrl\":\"advertiser-content.inmobiapis.com/tpce/v1/upload/events/download/jobs/file?job_id=IDFA_93.csv_j055aa020-863d-4356-8460-437ce0a40eee\"}\n",
      "IDFA_94.csv\n",
      "{\"status\":\"OK\",\"message\":\"check the jobStatus via GET call of given jobUrl\",\"code\":200,\"jobUrl\":\"advertiser-content.inmobiapis.com/tpce/v1/upload/events/download/jobs/file?job_id=IDFA_94.csv_ja91eb75a-382d-4daa-897f-8efc8845c070\"}\n",
      "IDFA_95.csv\n",
      "{\"status\":\"OK\",\"message\":\"check the jobStatus via GET call of given jobUrl\",\"code\":200,\"jobUrl\":\"advertiser-content.inmobiapis.com/tpce/v1/upload/events/download/jobs/file?job_id=IDFA_95.csv_j8ae92e53-26f5-471b-bb15-4bbd36acab1b\"}\n",
      "IDFA_96.csv\n",
      "{\"status\":\"OK\",\"message\":\"check the jobStatus via GET call of given jobUrl\",\"code\":200,\"jobUrl\":\"advertiser-content.inmobiapis.com/tpce/v1/upload/events/download/jobs/file?job_id=IDFA_96.csv_j78eaf0ee-ae78-4d00-a874-9637c3180149\"}\n",
      "IDFA_97.csv\n",
      "{\"status\":\"OK\",\"message\":\"check the jobStatus via GET call of given jobUrl\",\"code\":200,\"jobUrl\":\"advertiser-content.inmobiapis.com/tpce/v1/upload/events/download/jobs/file?job_id=IDFA_97.csv_ja4ae8b56-cbbd-4b57-8634-c7bde5889d6b\"}\n",
      "IDFA_98.csv\n",
      "{\"status\":\"OK\",\"message\":\"check the jobStatus via GET call of given jobUrl\",\"code\":200,\"jobUrl\":\"advertiser-content.inmobiapis.com/tpce/v1/upload/events/download/jobs/file?job_id=IDFA_98.csv_jfd635e1a-916c-47f6-8101-f680115c0175\"}\n",
      "IDFA_99.csv\n",
      "{\"status\":\"OK\",\"message\":\"check the jobStatus via GET call of given jobUrl\",\"code\":200,\"jobUrl\":\"advertiser-content.inmobiapis.com/tpce/v1/upload/events/download/jobs/file?job_id=IDFA_99.csv_jbb09e55e-dedf-4405-98d3-69996111de9b\"}\n"
     ]
    }
   ],
   "source": [
    "# url to be used\n",
    "url = 'http://advertiser-content.inmobiapis.com/tpce/v1/upload/events/download'\n",
    "current_dir = os.getcwd()                   # storing the current directory\n",
    "os.chdir(os.path.join(os.getcwd(), \"IDFA\")) # changing the current directory\n",
    "for name in files_inIDFA:\n",
    "    print(name)                             # printing the file name\n",
    "    files = {'file': open(name, 'rb')}  \n",
    "    r = requests.post(url, files=files)     # posting the request\n",
    "    print(r.text)                           # checking the status\n",
    "\n",
    "os.chdir(current_dir)                       # coming back to previous directory\n"
   ]
  },
  {
   "cell_type": "code",
   "execution_count": null,
   "metadata": {
    "collapsed": true
   },
   "outputs": [],
   "source": [
    "# multi part posting code is reference from http://docs.python-requests.org/en/latest/user/quickstart/#post-a-multipart-encoded-file"
   ]
  },
  {
   "cell_type": "code",
   "execution_count": null,
   "metadata": {
    "collapsed": true
   },
   "outputs": [],
   "source": []
  },
  {
   "cell_type": "code",
   "execution_count": null,
   "metadata": {
    "collapsed": true
   },
   "outputs": [],
   "source": []
  },
  {
   "cell_type": "code",
   "execution_count": null,
   "metadata": {
    "collapsed": true
   },
   "outputs": [],
   "source": [
    "# ---------------------------------------------- Rough Work -----------------------------------------------------"
   ]
  },
  {
   "cell_type": "code",
   "execution_count": null,
   "metadata": {
    "collapsed": true
   },
   "outputs": [],
   "source": []
  },
  {
   "cell_type": "code",
   "execution_count": 107,
   "metadata": {
    "collapsed": false
   },
   "outputs": [
    {
     "data": {
      "text/plain": [
       "'/Users/DataFlash/Documents/Inmobi Data Challenge'"
      ]
     },
     "execution_count": 107,
     "metadata": {},
     "output_type": "execute_result"
    }
   ],
   "source": [
    "#os.chdir('/Users/DataFlash/Documents/Inmobi Data Challenge')\n",
    "#os.getcwd()"
   ]
  },
  {
   "cell_type": "code",
   "execution_count": 93,
   "metadata": {
    "collapsed": false
   },
   "outputs": [
    {
     "data": {
      "text/plain": [
       "'{\"status\":\"OK\",\"message\":\"check the jobStatus via GET call of given jobUrl\",\"code\":200,\"jobUrl\":\"advertiser-content.inmobiapis.com/tpce/v1/upload/events/download/jobs/file?job_id=GPID.csv_j805c4538-8810-4ff5-a2c1-93d0c2cad49f\"}'"
      ]
     },
     "execution_count": 93,
     "metadata": {},
     "output_type": "execute_result"
    }
   ],
   "source": [
    "# Posting each of the csv files\n",
    "# url = 'http://advertiser-content.inmobiapis.com/tpce/v1/upload/events/download'\n",
    "# files = {'file': open('GPID.csv', 'rb')}\n",
    "\n",
    "# posting the request\n",
    "# r = requests.post(url, files=files)\n",
    "# checking the status\n",
    "# r.text"
   ]
  },
  {
   "cell_type": "code",
   "execution_count": 81,
   "metadata": {
    "collapsed": false
   },
   "outputs": [
    {
     "data": {
      "text/plain": [
       "36043646"
      ]
     },
     "execution_count": 81,
     "metadata": {},
     "output_type": "execute_result"
    }
   ],
   "source": [
    "#sys.getsizeof(GPID_df.ix[0:66600,])"
   ]
  },
  {
   "cell_type": "code",
   "execution_count": 88,
   "metadata": {
    "collapsed": false
   },
   "outputs": [],
   "source": [
    "#GPID_df.ix[0:66500,].to_csv(\"GPID1\" ,index=False)"
   ]
  },
  {
   "cell_type": "code",
   "execution_count": 89,
   "metadata": {
    "collapsed": false
   },
   "outputs": [],
   "source": [
    "#r = requests.post('http://advertiser-content.inmobiapis.com/tpce/v1/upload/events/download', \n",
    "#                  files={'GPID1.zip': open('GPID1.zip', 'rb')})"
   ]
  },
  {
   "cell_type": "code",
   "execution_count": 94,
   "metadata": {
    "collapsed": false
   },
   "outputs": [],
   "source": [
    "#r = requests.post('http://advertiser-content.inmobiapis.com/tpce/v1/upload/events/download', \n",
    "#                  files=dict(GPID.csv))"
   ]
  },
  {
   "cell_type": "code",
   "execution_count": 95,
   "metadata": {
    "collapsed": false
   },
   "outputs": [],
   "source": [
    "#sys.getsizeof(GPID_df.ix[0:125000,])"
   ]
  },
  {
   "cell_type": "code",
   "execution_count": 316,
   "metadata": {
    "collapsed": false
   },
   "outputs": [],
   "source": [
    "#chunks = [GPID_identifiers[x:x+index] for x in range(0, len(GPID_identifiers), index)]"
   ]
  },
  {
   "cell_type": "code",
   "execution_count": null,
   "metadata": {
    "collapsed": false
   },
   "outputs": [],
   "source": [
    "# function to find the 10mb file\n",
    "# def create_10mb(df_GPID):\n",
    "#     max_size = 21370574\n",
    "#     os.makedirs(df.columns[0])\n",
    "#     current_dir = os.getcwd()\n",
    "#     os.chdir(os.path.join(current_dir, df.columns[0]))\n",
    "#     curr_size = 0\n",
    "#     for i in range(len(df)):\n",
    "#         obj = df.ix[0:i]\n",
    "#         curr_size = sys.getsizeof(obj)\n",
    "#         if curr_size > max_size:\n",
    "#             obj.to_csv()\n",
    "        "
   ]
  },
  {
   "cell_type": "code",
   "execution_count": 52,
   "metadata": {
    "collapsed": true
   },
   "outputs": [],
   "source": [
    "#GPID_df.ix[0:125000,].to_csv(\"GPID.csv\", index = False)"
   ]
  }
 ],
 "metadata": {
  "anaconda-cloud": {},
  "kernelspec": {
   "display_name": "Python [Root]",
   "language": "python",
   "name": "Python [Root]"
  },
  "language_info": {
   "codemirror_mode": {
    "name": "ipython",
    "version": 3
   },
   "file_extension": ".py",
   "mimetype": "text/x-python",
   "name": "python",
   "nbconvert_exporter": "python",
   "pygments_lexer": "ipython3",
   "version": "3.5.2"
  }
 },
 "nbformat": 4,
 "nbformat_minor": 0
}
